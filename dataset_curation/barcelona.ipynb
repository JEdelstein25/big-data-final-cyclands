{
 "cells": [
  {
   "cell_type": "markdown",
   "metadata": {},
   "source": [
    "# Barcelona, Spain"
   ]
  },
  {
   "cell_type": "markdown",
   "metadata": {},
   "source": [
    "**Source of original dataset:** https://opendata-ajuntament.barcelona.cat/data/en/dataset?q=accident&sort=fecha_publicacion+desc\n",
    "\n",
    "**Location of accidents:** Latitude, Longitude\n",
    "\n",
    "**Date of accidents:** Date\n",
    "\n",
    "**Outcome of accidents:** Numero_morts, Numero_lesionats_greus, Numero_lesionats_lleus (Fatalities, Serious Injury, Light Injury"
   ]
  },
  {
   "cell_type": "code",
   "execution_count": null,
   "metadata": {},
   "outputs": [],
   "source": [
    "import pandas as pd\n",
    "pd.set_option('max_columns', None)\n",
    "pd.set_option('display.max_colwidth', -1)\n",
    "import numpy as np\n",
    "from plotly import graph_objects as go\n",
    "import plotly.express as px\n",
    "from itertools import chain\n",
    "import matplotlib.pyplot as plt\n",
    "import pyproj"
   ]
  },
  {
   "cell_type": "markdown",
   "metadata": {},
   "source": [
    "Setup input files"
   ]
  },
  {
   "cell_type": "code",
   "execution_count": null,
   "metadata": {},
   "outputs": [],
   "source": [
    "data_dir = \"../data/barcelona/\"\n",
    "\n",
    "accident_files = [\"2010_ACCIDENTS_GU_BCN_2010.csv\",\n",
    "                  \"2011_ACCIDENTS_GU_BCN_2011.csv\",\n",
    "                  \"2012_ACCIDENTS_GU_BCN_2012.csv\",\n",
    "                  \"2013_ACCIDENTS_GU_BCN_2013.csv\",\n",
    "                  \"2014_ACCIDENTS_GU_BCN_2014.csv\",\n",
    "                  \"2015_accidents_gu_bcn.csv\",\n",
    "                  \"2016_accidents_gu_bcn.csv\",\n",
    "                  \"2017_accidents_gu_bcn.csv\",\n",
    "                  \"2018_accidents_gu_bcn.csv\"]\n",
    "people_files = [\"2010_ACCIDENTS_PERSONES_GU_BCN_2010.csv\",\n",
    "                \"2011_ACCIDENTS_PERSONES_GU_BCN_2011.csv\",\n",
    "                \"2012_ACCIDENTS_PERSONES_GU_BCN_2012.csv\",\n",
    "                \"2013_ACCIDENTS_PERSONES_GU_BCN_2013.csv\",\n",
    "                \"2014_ACCIDENTS_PERSONES_GU_BCN_2014.csv\",\n",
    "                \"2015_ACCIDENTS_PERSONES_GU_BCN_2015.csv\",\n",
    "                \"2016_accidents_persones_gu_bcn.csv\",\n",
    "                \"2017_accidents_persones_gu_bcn_.csv\",\n",
    "                \"2018_accidents_persones_gu_bcn_.csv\"]\n",
    "people_data_files = [data_dir + s for s in people_files]\n",
    "accidents_data_files = [data_dir + s for s in accident_files]"
   ]
  },
  {
   "cell_type": "markdown",
   "metadata": {},
   "source": [
    "Read original data"
   ]
  },
  {
   "cell_type": "code",
   "execution_count": null,
   "metadata": {},
   "outputs": [],
   "source": [
    "from pandas.io.parsers import ParserError\n",
    "data_aux = []\n",
    "\n",
    "for i, (accidents_data, people_data) in enumerate(zip(accidents_data_files, people_data_files)):\n",
    "    try:\n",
    "        data_acc = pd.read_csv(accidents_data, encoding = \"ANSI\")\n",
    "    except ParserError:\n",
    "        data_acc = pd.read_csv(accidents_data, encoding = \"ANSI\", sep = ';')\n",
    "    try:\n",
    "        data_people = pd.read_csv(people_data, encoding = \"ANSI\")\n",
    "    except ParserError:\n",
    "        data_people = pd.read_csv(people_data, encoding = \"ANSI\", sep = ';')\n",
    "    \n",
    "   \n",
    "    \n",
    "    for idx in ['Número d expedient','Numero_expedient', 'N£mero d\\'expedient']:\n",
    "        try:\n",
    "            data_acc = data_acc.rename(columns={idx: \"Número d\\'expedient\"})\n",
    "        except:\n",
    "            pass\n",
    "        try:\n",
    "            data_people = data_people.rename(columns={idx: \"Número d\\'expedient\"})\n",
    "        except:\n",
    "            pass\n",
    "    \n",
    "    for idx in ['Descripci¢ causa vianant','Descripcio_causa_vianant']:\n",
    "        try:\n",
    "            data_acc = data_acc.rename(columns={idx: \"Descripció causa vianant\"})\n",
    "        except:\n",
    "            pass\n",
    "        try:\n",
    "            data_people = data_people.rename(columns={idx: \"Descripció causa vianant\"})\n",
    "        except:\n",
    "            pass\n",
    "    for idx in ['Descripci¢ victimitzaci¢','Descripcio_victimitzacio']:\n",
    "        try:\n",
    "            data_acc = data_acc.rename(columns={idx: \"Descripció victimització\"})\n",
    "        except:\n",
    "            pass\n",
    "        try:\n",
    "            data_people = data_people.rename(columns={idx: \"Descripció victimització\"})\n",
    "        except:\n",
    "            pass\n",
    "    for idx in ['Desc_Tipus_vehicle_implicat']:\n",
    "        try:\n",
    "            data_acc = data_acc.rename(columns={idx: \"Desc. Tipus vehicle implicat\"})\n",
    "        except:\n",
    "            pass\n",
    "        try:\n",
    "            data_people = data_people.rename(columns={idx: \"Desc. Tipus vehicle implicat\"})\n",
    "        except:\n",
    "            pass\n",
    " \n",
    "    data_people = data_people.groupby( 'Número d\\'expedient').agg({\n",
    "                                 'Desc. Tipus vehicle implicat': '; '.join, \n",
    "                                 'Descripció victimització': '; '.join,\n",
    "                                 'Descripció causa vianant': '; '.join}).reset_index()\n",
    "    \n",
    "    data_acc = data_acc.sort_values(by ='Número d\\'expedient' ).reset_index()    \n",
    "    data_acc['Número d\\'expedient'] = data_acc['Número d\\'expedient'].str.rstrip()\n",
    "    data_people['Número d\\'expedient'] = data_people['Número d\\'expedient'].str.rstrip()\n",
    "    \n",
    "    data = pd.merge(data_acc, data_people, on=\"Número d\\'expedient\", how=\"left\")\n",
    "\n",
    "    data = data.sort_values(by ='Número d\\'expedient' )\n",
    "    data_aux.append(data)"
   ]
  },
  {
   "cell_type": "markdown",
   "metadata": {},
   "source": [
    "Fixing column names"
   ]
  },
  {
   "cell_type": "code",
   "execution_count": null,
   "metadata": {},
   "outputs": [],
   "source": [
    "print('Fixing column names')\n",
    "for i in range(len(data_aux)):\n",
    "    name1 = ['Any',\n",
    "             'Codi barri',\n",
    "             'Codi carrer',\n",
    "             'Codi districte',\n",
    "             'Coordenada UTM (X)',\n",
    "             'Coordenada UTM (Y)',\n",
    "             'Desc. Tipus vehicle implicat',\n",
    "             'Descripció dia setmana',\n",
    "             'Descripció tipus dia',\n",
    "             'Descripció torn',\n",
    "             'Descripció victimització',\n",
    "             'Descripció causa vianant_x',\n",
    "             'Dia de mes',\n",
    "             'Dia de setmana',\n",
    "             'Dia setmana',\n",
    "             'Hora de dia',\n",
    "             'Latitud',\n",
    "             'Longitud',\n",
    "             'Mes de any',\n",
    "             'Nom barri',\n",
    "             'Nom carrer',\n",
    "             'Nom districte',\n",
    "             'Nom mes',\n",
    "             'Num postal caption',\n",
    "             'Num_postal',\n",
    "             'Num_postal ',\n",
    "             'Número de lesionats greus',\n",
    "             'Número de lesionats lleus',\n",
    "             'Número de morts',\n",
    "             'Número de vehicles implicats',\n",
    "             'Número de víctimes'\n",
    "            ]\n",
    "    name2 = ['NK Any',\n",
    "             'Codi_barri',\n",
    "             'Codi_carrer',\n",
    "             'Codi_districte',\n",
    "             'Coordenada_UTM_X',\n",
    "             'Coordenada_UTM_Y',\n",
    "             'Desc. Tipus vehicle implicat',\n",
    "             'Descripcio_dia_setmana',\n",
    "             'Descripcio_tipus_dia',\n",
    "             'Descripcio_torn',\n",
    "             'Descripció victimització',\n",
    "             'Descripció causa vianant_y',\n",
    "             'Dia_mes',\n",
    "             'Dia_setmana',\n",
    "             'Dia_setmana',\n",
    "             'Hora_dia',\n",
    "             'Latitud',\n",
    "             'Longitud',\n",
    "             'Mes_any',\n",
    "             'Nom_barri',\n",
    "             'Nom_carrer',\n",
    "             'Nom_districte',\n",
    "             'Nom_mes',\n",
    "             'Num_postal',\n",
    "             'Num_postal',\n",
    "             'Num_postal',\n",
    "             'Numero_lesionats_greus',\n",
    "             'Numero_lesionats_lleus',\n",
    "             'Numero_morts',\n",
    "             'Numero_vehicles_implicats',\n",
    "             'Numero_victimes'\n",
    "             ]\n",
    "    for key1, key2 in zip(name1, name2):\n",
    "        try:\n",
    "            data_aux[i] = data_aux[i].rename(columns={key1: key2})\n",
    "        except:\n",
    "            pass\n",
    "\n",
    "for i in range(len(data_aux)):       \n",
    "    if 'Latitud' not in data_aux[i]:\n",
    "        data_aux[i]['Latitud'] = np.nan\n",
    "    if 'Longitud' not in data_aux[i]:\n",
    "        data_aux[i]['Longitud'] = np.nan\n",
    "        \n",
    "list_of_dfs = data_aux\n",
    "list_of_dicts = [cur_df.T.to_dict().values() for cur_df in list_of_dfs]    \n",
    "data = pd.DataFrame(list(chain(*list_of_dicts)))    \n",
    "    \n",
    "    \n",
    "print(data.shape)\n",
    "\n",
    "\n"
   ]
  },
  {
   "cell_type": "markdown",
   "metadata": {},
   "source": [
    "Create Datetime column"
   ]
  },
  {
   "cell_type": "code",
   "execution_count": null,
   "metadata": {},
   "outputs": [],
   "source": [
    "data['Dia_mes'] = data['Dia_mes'].fillna(method='pad').astype('int')\n",
    "data['Mes_any'] = data['Mes_any'].fillna(method='pad').astype('int')\n",
    "data['NK Any'] = data['NK Any'].fillna(method='pad').astype('int')\n",
    "data['Hora_dia'] = data['Hora_dia'].fillna(method='pad').astype('int')\n",
    "\n",
    "data['Date'] = data['Dia_mes'].astype('str') + '/' + data['Mes_any'].astype('str') + '/' + data['NK Any'].astype('str') + ' ' + data['Hora_dia'].astype('str') + ':00:00' \n",
    "data['Date'] = pd.to_datetime(data['Date'])\n",
    "\n",
    "data.head()"
   ]
  },
  {
   "cell_type": "markdown",
   "metadata": {},
   "source": [
    "Setup bicycles column"
   ]
  },
  {
   "cell_type": "code",
   "execution_count": null,
   "metadata": {},
   "outputs": [],
   "source": [
    "bicycle_related_codes = ['Bicicleta']\n",
    "data['Bicycles'] = data['Desc. Tipus vehicle implicat'].str.contains('|'.join(bicycle_related_codes))\n",
    "data['Bicycles'].fillna(value=0, inplace=True)\n",
    "data['Bicycles'] = data['Bicycles'].astype('int')"
   ]
  },
  {
   "cell_type": "markdown",
   "metadata": {},
   "source": [
    "Setup latitude & longitude column"
   ]
  },
  {
   "cell_type": "code",
   "execution_count": null,
   "metadata": {},
   "outputs": [],
   "source": [
    "data['Coordenada_UTM_X'] = data['Coordenada_UTM_X'].astype('str').str.replace(',','.')#.astype('float')\n",
    "data['Coordenada_UTM_Y'] = data['Coordenada_UTM_Y'].astype('str').str.replace(',','.')#.astype('float')"
   ]
  },
  {
   "cell_type": "code",
   "execution_count": null,
   "metadata": {},
   "outputs": [],
   "source": [
    "_projections = {}\n",
    "\n",
    "def unproject(z, l, x, y):\n",
    "    if z not in _projections:\n",
    "        _projections[z] = pyproj.Proj(proj='utm', zone=z, ellps='WGS84')\n",
    "    if l < 'N':\n",
    "        y -= 10000000\n",
    "    lng, lat = _projections[z](x, y, inverse=True)\n",
    "    return (lng, lat)"
   ]
  },
  {
   "cell_type": "code",
   "execution_count": null,
   "metadata": {},
   "outputs": [],
   "source": [
    "def rule(row):\n",
    "    lon, lat = unproject('31','T', row['Coordenada_UTM_X'],row['Coordenada_UTM_Y'])\n",
    "    return pd.Series({\"Latitude\": lat, \"Longitude\": lon})\n",
    "\n",
    "data = data.merge(data.apply(rule, axis=1), left_index= True, right_index= True)"
   ]
  },
  {
   "cell_type": "markdown",
   "metadata": {},
   "source": [
    "Some key statistics"
   ]
  },
  {
   "cell_type": "code",
   "execution_count": null,
   "metadata": {},
   "outputs": [],
   "source": [
    "print('Accidents between '+str(data['Date'].min())+' and '+str(data['Date'].max()))\n",
    "\n",
    "total_accidents = data.shape[0]\n",
    "print(\"There are a total of \"+str(total_accidents)+\" accidents.\")\n",
    "\n",
    "fatalities = data[\"Numero_morts\"].sum()\n",
    "print(\"There are a total of \"+str(fatalities)+\" fatalities.\")\n",
    "\n",
    "serious_injuries = data[\"Numero_lesionats_greus\"].sum()\n",
    "print(\"There are a total of \"+str(serious_injuries)+\" seriously injured.\")\n",
    "\n",
    "light_injuries = data[\"Numero_lesionats_lleus\"].sum()\n",
    "print(\"There are a total of \"+str(light_injuries)+\" injured.\")\n",
    "\n",
    "bicycles = data[\"Bicycles\"].sum()\n",
    "print(\"There are a total of \"+str(bicycles)+\" bicycles involved in all the accidents.\")"
   ]
  },
  {
   "cell_type": "markdown",
   "metadata": {},
   "source": [
    "Slice all bicycle accidents"
   ]
  },
  {
   "cell_type": "code",
   "execution_count": null,
   "metadata": {},
   "outputs": [],
   "source": [
    "data_bicycles = data[data['Bicycles']>0]"
   ]
  },
  {
   "cell_type": "code",
   "execution_count": null,
   "metadata": {},
   "outputs": [],
   "source": [
    "data_bicycles.head()"
   ]
  },
  {
   "cell_type": "markdown",
   "metadata": {},
   "source": [
    "Save to file"
   ]
  },
  {
   "cell_type": "code",
   "execution_count": null,
   "metadata": {},
   "outputs": [],
   "source": [
    "print(data_bicycles.shape)\n",
    "data_bicycles.to_csv('cycling_safety_barcelona.csv')\n",
    "print('Wrote file to: cycling_safety_barcelona.csv')"
   ]
  }
 ],
 "metadata": {
  "kernelspec": {
   "display_name": "Python 3",
   "language": "python",
   "name": "python3"
  },
  "language_info": {
   "codemirror_mode": {
    "name": "ipython",
    "version": 3
   },
   "file_extension": ".py",
   "mimetype": "text/x-python",
   "name": "python",
   "nbconvert_exporter": "python",
   "pygments_lexer": "ipython3",
   "version": "3.7.4"
  }
 },
 "nbformat": 4,
 "nbformat_minor": 4
}
