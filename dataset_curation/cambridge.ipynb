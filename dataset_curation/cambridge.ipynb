{
 "cells": [
  {
   "cell_type": "markdown",
   "metadata": {},
   "source": [
    "# Cambridge, UK"
   ]
  },
  {
   "cell_type": "markdown",
   "metadata": {},
   "source": [
    "**Source of original dataset:** https://data.cambridgeshireinsight.org.uk/dataset/road-traffic-collisions-location\n",
    "\n",
    "**Location of accidents:** Latitude, Longitude\n",
    "\n",
    "**Date of accidents:** Date\n",
    "\n",
    "**Outcome of accidents:** Severity (Fatal, Serious, Sligh)"
   ]
  },
  {
   "cell_type": "code",
   "execution_count": null,
   "metadata": {},
   "outputs": [],
   "source": [
    "import pandas as pd\n",
    "pd.set_option('max_columns', None)\n",
    "pd.set_option('display.max_colwidth', -1)\n",
    "import numpy as np\n",
    "from plotly import graph_objects as go\n",
    "import plotly.express as px\n",
    "from itertools import chain\n",
    "import matplotlib.pyplot as plt\n",
    "import pyproj"
   ]
  },
  {
   "cell_type": "markdown",
   "metadata": {},
   "source": [
    "Setup input files"
   ]
  },
  {
   "cell_type": "code",
   "execution_count": null,
   "metadata": {},
   "outputs": [],
   "source": [
    "data_dir = \"../data/cambridgeshire/\"\n",
    "\n",
    "accident_files = [\"RTA Collision 2012 points.csv\",\n",
    "                  \"RTA Collision 2013 points.csv\",\n",
    "                  \"RTA Collision 2014 points.csv\",\n",
    "                  \"RTA Collision 2015 points.csv\",\n",
    "                  \"RTA Collision 2016 points.csv\",\n",
    "                  \"RTA Collision 2017 points.csv\"]\n",
    "accidents_data_files = [data_dir + s for s in accident_files]"
   ]
  },
  {
   "cell_type": "markdown",
   "metadata": {},
   "source": [
    "Read original data"
   ]
  },
  {
   "cell_type": "code",
   "execution_count": null,
   "metadata": {},
   "outputs": [],
   "source": [
    "from pandas.io.parsers import ParserError\n",
    "data_aux = []\n",
    "\n",
    "for i, accidents_data in enumerate(accidents_data_files):\n",
    "\n",
    "    data_acc = pd.read_csv(accidents_data, encoding = \"ANSI\")\n",
    "   \n",
    "    data_aux.append(data_acc)"
   ]
  },
  {
   "cell_type": "code",
   "execution_count": null,
   "metadata": {},
   "outputs": [],
   "source": [
    "list_of_dfs = data_aux[:]\n",
    "list_of_dicts = [cur_df.T.to_dict().values() for cur_df in list_of_dfs]    \n",
    "data = pd.DataFrame(list(chain(*list_of_dicts)))   "
   ]
  },
  {
   "cell_type": "markdown",
   "metadata": {},
   "source": [
    "Create Datetime column"
   ]
  },
  {
   "cell_type": "code",
   "execution_count": null,
   "metadata": {},
   "outputs": [],
   "source": [
    "data['year'] = data['Date'].astype('str').str.slice(start=0, stop=4).astype('int')\n",
    "data['month'] = data['Date'].astype('str').str.slice(start=4, stop=6).astype('int')\n",
    "data['day'] = data['Date'].astype('str').str.slice(start=6, stop=8).astype('int')\n",
    "data['Date'] = data['day'].astype('str') + '/' + data['month'].astype('str') + '/' + data['year'].astype('str')\n",
    "data['Date'] = pd.to_datetime(data['Date'])"
   ]
  },
  {
   "cell_type": "markdown",
   "metadata": {},
   "source": [
    "Setup bicycles column"
   ]
  },
  {
   "cell_type": "code",
   "execution_count": null,
   "metadata": {},
   "outputs": [],
   "source": [
    "data.loc[data['Cycle']=='Y','Bicycles'] = 1\n",
    "data.loc[data['Cycle']=='N','Bicycles'] = 0\n",
    "\n",
    "data.loc[(data['Cycle'] == 'Y') | (data['Cycles']>0), 'Bicycles'] = 1\n",
    "data.loc[(data['Cycle'] == 'N') & ((data['Cycles']<=0) | (data['Cycles'].isnull())), 'Bicycles'] = 0"
   ]
  },
  {
   "cell_type": "markdown",
   "metadata": {},
   "source": [
    "Some key statistics"
   ]
  },
  {
   "cell_type": "code",
   "execution_count": null,
   "metadata": {},
   "outputs": [],
   "source": [
    "print('Accidents between '+str(data['Date'].min())+' and '+str(data['Date'].max()))\n",
    "\n",
    "total_accidents = data.shape[0]\n",
    "print(\"There are a total of \"+str(total_accidents)+\" accidents.\")\n",
    "\n",
    "bicycles = data[\"Bicycles\"].sum()\n",
    "print(\"There are a total of \"+str(bicycles)+\" bicycles involved in all the accidents.\")"
   ]
  },
  {
   "cell_type": "markdown",
   "metadata": {},
   "source": [
    "Slice all bicycle accidents"
   ]
  },
  {
   "cell_type": "code",
   "execution_count": null,
   "metadata": {},
   "outputs": [],
   "source": [
    "data_bicycles = data[data['Bicycles']>0]"
   ]
  },
  {
   "cell_type": "code",
   "execution_count": null,
   "metadata": {},
   "outputs": [],
   "source": [
    "data_bicycles.head()"
   ]
  },
  {
   "cell_type": "markdown",
   "metadata": {},
   "source": [
    "Save to file"
   ]
  },
  {
   "cell_type": "code",
   "execution_count": null,
   "metadata": {},
   "outputs": [],
   "source": [
    "print(data_bicycles.shape)\n",
    "data_bicycles.to_csv('cycling_safety_cambridge.csv')\n",
    "print('Wrote file to: cycling_safety_cambridge.csv')"
   ]
  }
 ],
 "metadata": {
  "kernelspec": {
   "display_name": "Python 3",
   "language": "python",
   "name": "python3"
  },
  "language_info": {
   "codemirror_mode": {
    "name": "ipython",
    "version": 3
   },
   "file_extension": ".py",
   "mimetype": "text/x-python",
   "name": "python",
   "nbconvert_exporter": "python",
   "pygments_lexer": "ipython3",
   "version": "3.8.5"
  }
 },
 "nbformat": 4,
 "nbformat_minor": 4
}
