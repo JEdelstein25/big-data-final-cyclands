{
 "cells": [
  {
   "cell_type": "markdown",
   "metadata": {},
   "source": [
    "# Richmond, USA"
   ]
  },
  {
   "cell_type": "markdown",
   "metadata": {},
   "source": [
    "**Source of original dataset:** https://data.richmondgov.com/Community-Safety-and-Well-Being/Bicycle-Motor-Vehicle-Accidents/hcga-86ns/data\n",
    "\n",
    "**Location of accidents:** Latitude, Longitude\n",
    "\n",
    "**Date of accidents:** Date\n",
    "\n",
    "**Outcome of accidents:** Fatality, Hospitalisation, Medical Treatment, Minor Injury, PDO"
   ]
  },
  {
   "cell_type": "code",
   "execution_count": null,
   "metadata": {},
   "outputs": [],
   "source": [
    "import pandas as pd\n",
    "pd.set_option('max_columns', None)\n",
    "pd.set_option('display.max_colwidth', -1)\n",
    "import numpy as np\n",
    "from plotly import graph_objects as go\n",
    "import plotly.express as px\n",
    "from itertools import chain\n",
    "import matplotlib.pyplot as plt\n",
    "import pyproj\n",
    "import glob"
   ]
  },
  {
   "cell_type": "markdown",
   "metadata": {},
   "source": [
    "Setup input files"
   ]
  },
  {
   "cell_type": "code",
   "execution_count": null,
   "metadata": {},
   "outputs": [],
   "source": [
    "data_dir = \"../data/richmond/\""
   ]
  },
  {
   "cell_type": "markdown",
   "metadata": {},
   "source": [
    "Read original data"
   ]
  },
  {
   "cell_type": "code",
   "execution_count": null,
   "metadata": {},
   "outputs": [],
   "source": [
    "data = pd.read_csv(data_dir + 'RVA_Bike_Accidents (1).csv', encoding = \"ISO-8859-1\")"
   ]
  },
  {
   "cell_type": "markdown",
   "metadata": {},
   "source": [
    "Create Datetime column"
   ]
  },
  {
   "cell_type": "code",
   "execution_count": null,
   "metadata": {},
   "outputs": [],
   "source": [
    "data['Time'] = data['Time'].astype(str)\n",
    "data['Time'] = data['Time'].apply(lambda x: '{0:0>4}'.format(x))\n",
    "data = data[data['Date'].notna()]"
   ]
  },
  {
   "cell_type": "code",
   "execution_count": null,
   "metadata": {},
   "outputs": [],
   "source": [
    "data['Date_aux'] = data['Date'].astype('str') + ' ' + data['Time'].astype('str')\n",
    "data['Date'] = pd.to_datetime(data['Date_aux'], format='%m/%d/%Y %H%M')"
   ]
  },
  {
   "cell_type": "markdown",
   "metadata": {},
   "source": [
    "Setup latitude & longitude column"
   ]
  },
  {
   "cell_type": "code",
   "execution_count": null,
   "metadata": {},
   "outputs": [],
   "source": [
    "loc = data['Location 1'].str.replace('(','').str.replace(')','').str.split(', ')[:]\n",
    "data[['Latitude','Longitude']] = pd.DataFrame(loc.tolist(), index= data.index)\n",
    "data['Latitude'] = data['Latitude'].astype(float)\n",
    "data['Longitude'] = data['Longitude'].astype(float)"
   ]
  },
  {
   "cell_type": "markdown",
   "metadata": {},
   "source": [
    "Some key statistics"
   ]
  },
  {
   "cell_type": "code",
   "execution_count": null,
   "metadata": {},
   "outputs": [],
   "source": [
    "print('Accidents between '+str(data['REPORTDATE'].min())+' and '+str(data['REPORTDATE'].max()))\n",
    "\n",
    "total_accidents = data.shape[0]\n",
    "print(\"There are a total of \"+str(total_accidents)+\" accidents.\")\n",
    "\n",
    "fatalities = data[\"FATAL_BICYCLIST\"].sum() + data[\"FATAL_DRIVER\"].sum() + data[\"FATAL_PEDESTRIAN\"].sum() + data[\"FATALPASSENGER\"].sum()\n",
    "print(\"There are a total of \"+str(fatalities)+\" fatalities.\")\n",
    "\n",
    "major_injuries = data[\"MAJORINJURIES_BICYCLIST\"].sum() + data[\"MAJORINJURIES_DRIVER\"].sum() + data[\"MAJORINJURIES_PEDESTRIAN\"].sum() + data[\"MAJORINJURIESPASSENGER\"].sum()\n",
    "print(\"There are a total of \"+str(major_injuries)+\" major injured.\")\n",
    "\n",
    "minor_injuries = data[\"MINORINJURIES_BICYCLIST\"].sum() + data[\"MINORINJURIES_DRIVER\"].sum() + data[\"MINORINJURIES_PEDESTRIAN\"].sum() + data[\"MINORINJURIESPASSENGER\"].sum()\n",
    "print(\"There are a total of \"+str(minor_injuries)+\" minor injured.\")\n",
    "\n",
    "unknown_injuries = data[\"UNKNOWNINJURIES_BICYCLIST\"].sum() + data[\"UNKNOWNINJURIES_DRIVER\"].sum() + data[\"UNKNOWNINJURIES_PEDESTRIAN\"].sum() + data[\"UNKNOWNINJURIESPASSENGER\"].sum()\n",
    "print(\"There are a total of \"+str(unknown_injuries)+\" unknown injured.\")\n",
    "\n",
    "bicycles = data[\"TOTAL_BICYCLES\"].sum()\n",
    "print(\"There are a total of \"+str(bicycles)+\" bicycles involved in all the accidents.\")"
   ]
  },
  {
   "cell_type": "markdown",
   "metadata": {},
   "source": [
    "Slice all bicycle accidents"
   ]
  },
  {
   "cell_type": "code",
   "execution_count": null,
   "metadata": {},
   "outputs": [],
   "source": [
    "data_bicycles = data"
   ]
  },
  {
   "cell_type": "code",
   "execution_count": null,
   "metadata": {},
   "outputs": [],
   "source": [
    "data_bicycles.head()"
   ]
  },
  {
   "cell_type": "markdown",
   "metadata": {},
   "source": [
    "Save to file"
   ]
  },
  {
   "cell_type": "code",
   "execution_count": null,
   "metadata": {},
   "outputs": [],
   "source": [
    "print(data_bicycles.shape)\n",
    "data_bicycles.to_csv('cycling_safety_richmond.csv')\n",
    "print('Wrote file to: cycling_safety_richmond.csv')"
   ]
  }
 ],
 "metadata": {
  "kernelspec": {
   "display_name": "Python 3",
   "language": "python",
   "name": "python3"
  },
  "language_info": {
   "codemirror_mode": {
    "name": "ipython",
    "version": 3
   },
   "file_extension": ".py",
   "mimetype": "text/x-python",
   "name": "python",
   "nbconvert_exporter": "python",
   "pygments_lexer": "ipython3",
   "version": "3.7.4"
  }
 },
 "nbformat": 4,
 "nbformat_minor": 4
}
