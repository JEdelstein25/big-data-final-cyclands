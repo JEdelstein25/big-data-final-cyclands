{
 "cells": [
  {
   "cell_type": "markdown",
   "metadata": {},
   "source": [
    "# Madrid, Spain"
   ]
  },
  {
   "cell_type": "markdown",
   "metadata": {},
   "source": [
    "**Source of original dataset:** https://datos.madrid.es/portal/site/egob/menuitem.c05c1f754a33a9fbe4b2e4b284f1a5a0/?vgnextoid=7c2843010d9c3610VgnVCM2000001f4a900aRCRD\\&vgnextchannel=374512b9ace9f310VgnVCM100000171f5a0aRCRD\\&vgnextfmt=default\n",
    "\n",
    "**Location of accidents:** CALLE, NUMERO\n",
    "\n",
    "**Date of accidents:** Date\n",
    "\n",
    "**Outcome of accidents:** Fatality, Serious Injury, Light Injury, PDO"
   ]
  },
  {
   "cell_type": "code",
   "execution_count": null,
   "metadata": {},
   "outputs": [],
   "source": [
    "import pandas as pd\n",
    "pd.set_option('max_columns', None)\n",
    "pd.set_option('display.max_colwidth', -1)\n",
    "import numpy as np\n",
    "from plotly import graph_objects as go\n",
    "import plotly.express as px\n",
    "from itertools import chain\n",
    "import matplotlib.pyplot as plt\n",
    "import pyproj"
   ]
  },
  {
   "cell_type": "markdown",
   "metadata": {},
   "source": [
    "Setup input files"
   ]
  },
  {
   "cell_type": "code",
   "execution_count": null,
   "metadata": {},
   "outputs": [],
   "source": [
    "data_dir = \"../data/madrid/\"\n",
    "\n",
    "accident_files = [\"AccidentesBicicletas_2010.csv\",\n",
    "                  \"AccidentesBicicletas_2011.csv\",\n",
    "                  \"AccidentesBicicletas_2012.csv\",\n",
    "                  \"AccidentesBicicletas_2013.csv\",\n",
    "                  \"AccidentesBicicletas_2014.csv\",\n",
    "                  \"AccidentesBicicletas_2015.csv\",\n",
    "                  \"AccidentesBicicletas_2016.csv\",\n",
    "                  \"AccidentesBicicletas_2017.csv\",\n",
    "                  \"AccidentesBicicletas_2018.csv\",\n",
    "                  \"AccidentesBicicletas_2019.csv\"]\n",
    "accidents_data_files = [data_dir + s for s in accident_files]"
   ]
  },
  {
   "cell_type": "markdown",
   "metadata": {},
   "source": [
    "Read original data"
   ]
  },
  {
   "cell_type": "code",
   "execution_count": null,
   "metadata": {},
   "outputs": [],
   "source": [
    "data_aux = []\n",
    "\n",
    "for i, accidents_data in enumerate(accidents_data_files):\n",
    "    data_acc = pd.read_csv(accidents_data, sep=';', encoding=\"ANSI\")\n",
    "    data_aux.append(data_acc)\n"
   ]
  },
  {
   "cell_type": "markdown",
   "metadata": {},
   "source": [
    "Fixing column names"
   ]
  },
  {
   "cell_type": "code",
   "execution_count": null,
   "metadata": {},
   "outputs": [],
   "source": [
    "for i in range(len(data_aux)):\n",
    "    name1 = ['LUGAR ACCIDENTE',\n",
    "             'Nº',\n",
    "             'Tipo Vehiculo',\n",
    "             'LESIVIDAD*'\n",
    "            ]\n",
    "    name2 = ['CALLE',\n",
    "             'NÚMERO',\n",
    "             'TIPO VEHÍCULO',\n",
    "             'LESIVIDAD'          \n",
    "             ]\n",
    "    for key1, key2 in zip(name1, name2):\n",
    "        try:\n",
    "            data_aux[i] = data_aux[i].rename(columns={key1: key2})\n",
    "        except:\n",
    "            pass"
   ]
  },
  {
   "cell_type": "code",
   "execution_count": null,
   "metadata": {},
   "outputs": [],
   "source": [
    "list_of_dfs = data_aux\n",
    "list_of_dicts = [cur_df.T.to_dict().values() for cur_df in list_of_dfs]    \n",
    "data = pd.DataFrame(list(chain(*list_of_dicts)))    "
   ]
  },
  {
   "cell_type": "markdown",
   "metadata": {},
   "source": [
    "Create Datetime column"
   ]
  },
  {
   "cell_type": "code",
   "execution_count": null,
   "metadata": {},
   "outputs": [],
   "source": [
    "data['Date'] = pd.to_datetime(data['FECHA'])"
   ]
  },
  {
   "cell_type": "markdown",
   "metadata": {},
   "source": [
    "Setup outcomes"
   ]
  },
  {
   "cell_type": "code",
   "execution_count": null,
   "metadata": {},
   "outputs": [],
   "source": [
    "data['LESIVIDAD'] = data['LESIVIDAD'].str.rstrip()\n",
    "\n",
    "data['fatalities'] = 0\n",
    "data.loc[(data['LESIVIDAD']=='M') | (data['LESIVIDAD']==4), 'fatalities'] = 1\n",
    "\n",
    "data['serious_injury'] = 0\n",
    "data.loc[(data['LESIVIDAD']=='HG') | (data['LESIVIDAD']==3), 'serious_injury'] = 1\n",
    "\n",
    "data['light_injury'] = 0\n",
    "data.loc[(data['LESIVIDAD']=='HL') | (data['LESIVIDAD']==1) | (data['LESIVIDAD']==2) | (data['LESIVIDAD']==5) | (data['LESIVIDAD']==6) | (data['LESIVIDAD']==7), 'light_injury'] = 1"
   ]
  },
  {
   "cell_type": "markdown",
   "metadata": {},
   "source": [
    "Setup latitude & longitude column"
   ]
  },
  {
   "cell_type": "code",
   "execution_count": null,
   "metadata": {},
   "outputs": [],
   "source": [
    "data['Latitude'] = data['GPS LATITUDE DECIMAL']\n",
    "data['Longitude'] = data['GPS LONGITUDE DECIMAL']"
   ]
  },
  {
   "cell_type": "markdown",
   "metadata": {},
   "source": [
    "Setup bicycles column"
   ]
  },
  {
   "cell_type": "code",
   "execution_count": null,
   "metadata": {},
   "outputs": [],
   "source": [
    "data_bicycles = data[(data['DIRECTIONAL ANALYSIS'] == 'COLLISION WITH BICYCLE') | (data['DIRECTIONAL ANALYSIS'] == 'COLLISION WITH BICYCLIST')]"
   ]
  },
  {
   "cell_type": "markdown",
   "metadata": {},
   "source": [
    "Some key statistics"
   ]
  },
  {
   "cell_type": "code",
   "execution_count": null,
   "metadata": {},
   "outputs": [],
   "source": [
    "print('Accidents between '+str(data['Date'].min())+' and '+str(data['Date'].max()))\n",
    "\n",
    "total_accidents = data.shape[0]\n",
    "print(\"There are a total of \"+str(total_accidents)+\" accidents.\")\n",
    "\n",
    "fatalities = data[\"fatalities\"].sum()\n",
    "print(\"There are a total of \"+str(fatalities)+\" fatalities.\")\n",
    "\n",
    "serious_injuries = data[\"serious_injury\"].sum()\n",
    "print(\"There are a total of \"+str(serious_injuries)+\" seriously injured.\")\n",
    "\n",
    "light_injuries = data[\"light_injury\"].sum()\n",
    "print(\"There are a total of \"+str(light_injuries)+\" injured.\")"
   ]
  },
  {
   "cell_type": "markdown",
   "metadata": {},
   "source": [
    "Bicycle accidents"
   ]
  },
  {
   "cell_type": "code",
   "execution_count": null,
   "metadata": {},
   "outputs": [],
   "source": [
    "data_bicycles = data\n",
    "data_bicycles.head()"
   ]
  },
  {
   "cell_type": "markdown",
   "metadata": {},
   "source": [
    "Save to file"
   ]
  },
  {
   "cell_type": "code",
   "execution_count": null,
   "metadata": {},
   "outputs": [],
   "source": [
    "print(data_bicycles.shape)\n",
    "data_bicycles.to_csv('cycling_safety_madrid.csv')\n",
    "print('Wrote file to: cycling_safety_madrid.csv')"
   ]
  }
 ],
 "metadata": {
  "kernelspec": {
   "display_name": "Python 3",
   "language": "python",
   "name": "python3"
  },
  "language_info": {
   "codemirror_mode": {
    "name": "ipython",
    "version": 3
   },
   "file_extension": ".py",
   "mimetype": "text/x-python",
   "name": "python",
   "nbconvert_exporter": "python",
   "pygments_lexer": "ipython3",
   "version": "3.8.5"
  }
 },
 "nbformat": 4,
 "nbformat_minor": 4
}
