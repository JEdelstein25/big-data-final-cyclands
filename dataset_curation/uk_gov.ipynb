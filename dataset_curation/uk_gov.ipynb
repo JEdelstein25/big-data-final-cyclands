{
 "cells": [
  {
   "cell_type": "markdown",
   "metadata": {},
   "source": [
    "# UK Gov"
   ]
  },
  {
   "cell_type": "markdown",
   "metadata": {},
   "source": [
    "**Source of original dataset:** https://data.gov.uk/dataset/cb7ae6f0-4be6-4935-9277-47e5ce24a11f/road-safety-data\n",
    "\n",
    "**Location of accidents:** Latitude, Longitude\n",
    "\n",
    "**Date of accidents:** Date\n",
    "\n",
    "**Outcome of accidents:** Fatality, Serious Injury, Slight Injury, PDO"
   ]
  },
  {
   "cell_type": "code",
   "execution_count": null,
   "metadata": {},
   "outputs": [],
   "source": [
    "import pandas as pd\n",
    "pd.set_option('max_columns', None)\n",
    "pd.set_option('display.max_colwidth', -1)\n",
    "import numpy as np\n",
    "from plotly import graph_objects as go\n",
    "import plotly.express as px\n",
    "from itertools import chain\n",
    "import matplotlib.pyplot as plt\n",
    "import pyproj\n",
    "import glob\n",
    "import pygeodesy as geo"
   ]
  },
  {
   "cell_type": "markdown",
   "metadata": {},
   "source": [
    "Setup input files"
   ]
  },
  {
   "cell_type": "code",
   "execution_count": null,
   "metadata": {},
   "outputs": [],
   "source": [
    "data_dir = \"../data/uk_gov/\"\n",
    "acc_files = [data_dir + 'Stats19_Data_Accidents7904.csv',\n",
    "             data_dir + 'Stats19_Data_Accidents0514.csv',\n",
    "             data_dir + 'DfTRoadSafety_Accidents_2015.csv',\n",
    "             data_dir + 'DftRoadSafety_Accidents_2016.csv',\n",
    "             data_dir + 'DfTRoadSafety_Accidents_2017.csv',\n",
    "             data_dir + 'DftRoadSafety_Accidents_2018.csv']\n",
    "veh_files = [data_dir + 'Stats19_Data_Vehicles7904.csv',\n",
    "             data_dir + 'Stats19_Data_Vehicles0514.csv', \n",
    "             data_dir + 'DftRoadSafety_Vehicles_2015.csv',\n",
    "             data_dir + 'DftRoadSafety_Vehicles_2016.csv',\n",
    "             data_dir + 'DftRoadSafety_Vehicles_2017.csv',\n",
    "             data_dir + 'DftRoadSafety_Vehicles_2018.csv']\n",
    "                         "
   ]
  },
  {
   "cell_type": "markdown",
   "metadata": {},
   "source": [
    "Read original data"
   ]
  },
  {
   "cell_type": "code",
   "execution_count": null,
   "metadata": {},
   "outputs": [],
   "source": [
    "data_aux = []\n",
    "for i, (accidents_data, vehicles_data) in enumerate(zip(acc_files, veh_files)):\n",
    "    print(accidents_data)\n",
    "\n",
    "    data_acc = pd.read_csv(accidents_data)\n",
    "    data_veh = pd.read_csv(vehicles_data)\n",
    "\n",
    "    name1 = ['Acc_Index',\n",
    "            ]\n",
    "    name2 = ['Accident_Index',\n",
    "             ]\n",
    "    for key1, key2 in zip(name1, name2):\n",
    "        try:\n",
    "            print('data_veh')\n",
    "            data_veh = data_veh.rename(columns={key1: key2})\n",
    "        except:\n",
    "            pass\n",
    "        try:\n",
    "            print('data_acc')\n",
    "            data_acc = data_acc.rename(columns={key1: key2})\n",
    "        except:\n",
    "            pass\n",
    "    \n",
    "    data_veh['Vehicle_Type'] = data_veh['Vehicle_Type'].replace(1, 'bike')\n",
    "    data_veh['Vehicle_Type'] = data_veh['Vehicle_Type'].astype(str)\n",
    "\n",
    "    data_veh = data_veh.groupby( 'Accident_Index').agg({\n",
    "                                 'Vehicle_Type': '; '.join}).reset_index()\n",
    "    data = pd.merge(data_acc, data_veh, on=\"Accident_Index\", how=\"left\")\n",
    "\n",
    "    # Filter accident where a bicycle is involved\n",
    "    bicycle_related_codes = ['bike']\n",
    "    data['Bicycles'] = data['Vehicle_Type'].str.contains('|'.join(bicycle_related_codes))\n",
    "    data['Bicycles'].fillna(value=0, inplace=True)\n",
    "    data['Bicycles'] = data['Bicycles'].astype('int')   \n",
    "    data = data[data['Bicycles']>0]\n",
    "\n",
    "    data_aux.append(data)"
   ]
  },
  {
   "cell_type": "code",
   "execution_count": null,
   "metadata": {},
   "outputs": [],
   "source": [
    "list_of_dfs = data_aux\n",
    "list_of_dicts = [cur_df.T.to_dict().values() for cur_df in list_of_dfs]\n",
    "data = pd.DataFrame(list(chain(*list_of_dicts)))"
   ]
  },
  {
   "cell_type": "markdown",
   "metadata": {},
   "source": [
    "Create Datetime column"
   ]
  },
  {
   "cell_type": "code",
   "execution_count": null,
   "metadata": {},
   "outputs": [],
   "source": [
    "data['Date'] = pd.to_datetime(data['Date'])"
   ]
  },
  {
   "cell_type": "markdown",
   "metadata": {},
   "source": [
    "Setup outcome variables"
   ]
  },
  {
   "cell_type": "code",
   "execution_count": null,
   "metadata": {},
   "outputs": [],
   "source": [
    "data['fatal']= 0\n",
    "data['serious']= 0\n",
    "data['slight']= 0\n",
    "\n",
    "data.loc[data['Accident_Severity'] == 1, 'fatal'] = 1\n",
    "data.loc[data['Accident_Severity'] == 2, 'serious'] = 1\n",
    "data.loc[data['Accident_Severity'] == 3, 'slight'] = 1\n",
    "\n",
    "data = data[data['Location_Easting_OSGR'].notna()]\n",
    "data = data[data['Location_Northing_OSGR'].notna()]\n",
    "data.shape"
   ]
  },
  {
   "cell_type": "markdown",
   "metadata": {},
   "source": [
    "Setup Longitude & Latitude"
   ]
  },
  {
   "cell_type": "code",
   "execution_count": null,
   "metadata": {},
   "outputs": [],
   "source": [
    "data['Location_Easting_OSGR'] = data['Location_Easting_OSGR'].astype(float)\n",
    "data['Location_Northing_OSGR'] = data['Location_Northing_OSGR'].astype(float)\n",
    "\n",
    "data = data[data['Location_Easting_OSGR']  != 0]\n",
    "data = data[data['Location_Northing_OSGR'] != 0]"
   ]
  },
  {
   "cell_type": "code",
   "execution_count": null,
   "metadata": {},
   "outputs": [],
   "source": [
    "def f(easting, northing):\n",
    "    try:\n",
    "        a = geo.parseOSGR(str(easting)+','+str(northing)).toLatLon()[0:2]\n",
    "    except:\n",
    "        return [None, None]\n",
    "    \n",
    "    return a"
   ]
  },
  {
   "cell_type": "code",
   "execution_count": null,
   "metadata": {},
   "outputs": [],
   "source": [
    "data[['Latitude', 'Longitude']] = data.apply(lambda x: f(x['Location_Easting_OSGR'], x['Location_Northing_OSGR']), axis=1, result_type='expand')"
   ]
  },
  {
   "cell_type": "code",
   "execution_count": null,
   "metadata": {},
   "outputs": [],
   "source": [
    "data = data[data['Latitude'].notna()]\n",
    "data = data[data['Longitude'].notna()]"
   ]
  },
  {
   "cell_type": "markdown",
   "metadata": {},
   "source": [
    "Some key statistics"
   ]
  },
  {
   "cell_type": "code",
   "execution_count": null,
   "metadata": {},
   "outputs": [],
   "source": [
    "print('Accidents between '+str(data['Date'].min())+' and '+str(data['Date'].max()))\n",
    "\n",
    "total_accidents = data.shape[0]\n",
    "print(\"There are a total of \"+str(total_accidents)+\" bicycle accidents.\")\n",
    "\n",
    "fatalities = data['fatal'].sum()\n",
    "print(\"There are a total of \"+str(fatalities)+\" fatalities.\")\n",
    "\n",
    "serious_injuries = data['serious'].sum()\n",
    "print(\"There are a total of \"+str(serious_injuries)+\" seriously injured.\")\n",
    "\n",
    "injuries = data['slight'].sum()\n",
    "print(\"There are a total of \"+str(injuries)+\" slightly injured.\")"
   ]
  },
  {
   "cell_type": "markdown",
   "metadata": {},
   "source": [
    "Slice all bicycle accidents"
   ]
  },
  {
   "cell_type": "code",
   "execution_count": null,
   "metadata": {},
   "outputs": [],
   "source": [
    "data_bicycles = data"
   ]
  },
  {
   "cell_type": "code",
   "execution_count": null,
   "metadata": {},
   "outputs": [],
   "source": [
    "data_bicycles.head()"
   ]
  },
  {
   "cell_type": "markdown",
   "metadata": {},
   "source": [
    "Save to file"
   ]
  },
  {
   "cell_type": "code",
   "execution_count": null,
   "metadata": {},
   "outputs": [],
   "source": [
    "print(data_bicycles.shape)\n",
    "data_bicycles.to_csv('cycling_safety_uk_gov.csv')\n",
    "print('Wrote file to: cycling_safety_uk_gov.csv')"
   ]
  },
  {
   "cell_type": "code",
   "execution_count": null,
   "metadata": {},
   "outputs": [],
   "source": []
  }
 ],
 "metadata": {
  "kernelspec": {
   "display_name": "Python 3",
   "language": "python",
   "name": "python3"
  },
  "language_info": {
   "codemirror_mode": {
    "name": "ipython",
    "version": 3
   },
   "file_extension": ".py",
   "mimetype": "text/x-python",
   "name": "python",
   "nbconvert_exporter": "python",
   "pygments_lexer": "ipython3",
   "version": "3.7.4"
  }
 },
 "nbformat": 4,
 "nbformat_minor": 4
}
