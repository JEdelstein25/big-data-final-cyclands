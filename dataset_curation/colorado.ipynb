{
 "cells": [
  {
   "cell_type": "markdown",
   "metadata": {},
   "source": [
    "# Colorado, USA"
   ]
  },
  {
   "cell_type": "markdown",
   "metadata": {},
   "source": [
    "**Source of original dataset:** https://data.drcog.org/data?category[0]=Transportation\\&page=1\\&q=crash\\&sort=title\n",
    "\n",
    "**Location of accidents:** Latitude, Longitude\n",
    "\n",
    "**Date of accidents:** Date\n",
    "\n",
    "**Outcome of accidents:** fatal, incapacitation, non_incapacitation, complaint_injury, no_injury "
   ]
  },
  {
   "cell_type": "code",
   "execution_count": null,
   "metadata": {},
   "outputs": [],
   "source": [
    "import pandas as pd\n",
    "pd.set_option('max_columns', None)\n",
    "pd.set_option('display.max_colwidth', -1)\n",
    "import numpy as np\n",
    "from plotly import graph_objects as go\n",
    "import plotly.express as px\n",
    "from itertools import chain\n",
    "import matplotlib.pyplot as plt\n",
    "import pyproj\n",
    "import geopandas as gpd"
   ]
  },
  {
   "cell_type": "markdown",
   "metadata": {},
   "source": [
    "Setup input files"
   ]
  },
  {
   "cell_type": "code",
   "execution_count": null,
   "metadata": {},
   "outputs": [],
   "source": [
    "data_dir = \"../data/colorado/\"\n",
    "\n",
    "accident_files = [\"drcog_crash_2004.shp\",\n",
    "                  \"drcog_crash_2005.shp\",\n",
    "                  \"drcog_crash_2006.shp\",\n",
    "                  \"drcog_crash_2007.shp\",\n",
    "                  \"drcog_crash_2008.shp\",\n",
    "                  \"drcog_crash_2009.shp\",\n",
    "                  \"drcog_crash_2010.shp\",\n",
    "                  \"drcog_crash_2011.shp\",\n",
    "                  \"drcog_crash_2012.shp\",\n",
    "                  \"drcog_crash_2013.shp\",\n",
    "                  \"drcog_crash_2014.shp\",\n",
    "                  \"drcog_crash_2015.shp\",\n",
    "                  \"drcog_crash_2016.shp\",\n",
    "                  \"drcog_crash_2017.shp\",\n",
    "                  \"drcog_crash_2018.shp\"]\n",
    "accidents_data_files = [data_dir + s for s in accident_files]"
   ]
  },
  {
   "cell_type": "markdown",
   "metadata": {},
   "source": [
    "Read original data"
   ]
  },
  {
   "cell_type": "code",
   "execution_count": null,
   "metadata": {},
   "outputs": [],
   "source": [
    "from pandas.io.parsers import ParserError\n",
    "data_aux = []\n",
    "\n",
    "for i, accidents_data in enumerate(accidents_data_files):\n",
    "    data_aux.append(gpd.read_file(accidents_data))"
   ]
  },
  {
   "cell_type": "code",
   "execution_count": null,
   "metadata": {},
   "outputs": [],
   "source": [
    "list_of_dfs = data_aux\n",
    "list_of_dicts = [cur_df.T.to_dict().values() for cur_df in list_of_dfs]    \n",
    "data = pd.DataFrame(list(chain(*list_of_dicts)))  \n",
    "print(data.shape)"
   ]
  },
  {
   "cell_type": "markdown",
   "metadata": {},
   "source": [
    "Create Datetime column"
   ]
  },
  {
   "cell_type": "code",
   "execution_count": null,
   "metadata": {},
   "outputs": [],
   "source": [
    "data['hour'] = '00:00'"
   ]
  },
  {
   "cell_type": "code",
   "execution_count": null,
   "metadata": {},
   "outputs": [],
   "source": [
    "data = data[data['accident_d'].notna()]\n",
    "data['Date'] = data['accident_d'].astype('str') +' '+ data['hour'].astype('str')\n",
    "\n",
    "data['Date'] = pd.to_datetime(data['Date'], format='%Y-%m-%d %H:%M')\n"
   ]
  },
  {
   "cell_type": "markdown",
   "metadata": {},
   "source": [
    "Setup bicycles column"
   ]
  },
  {
   "cell_type": "code",
   "execution_count": null,
   "metadata": {},
   "outputs": [],
   "source": [
    "data['fatal']= 0\n",
    "data['incapacitation']= 0\n",
    "data['non_incapacitation']= 0\n",
    "data['complaint_injury']= 0\n",
    "data['no_injury']= 0\n",
    "\n",
    "data.loc[data['di1'] == '0', 'no_injury'] = 1\n",
    "data.loc[data['di1'] == '01', 'complaint_injury'] = 1\n",
    "data.loc[data['di1'] == '02', 'non_incapacitation'] = 1\n",
    "data.loc[data['di1'] == '03', 'incapacitation'] = 1\n",
    "data.loc[data['di1'] == '04', 'fatal'] = 1\n",
    "\n",
    "data.loc[data['di2'] == '0', 'no_injury'] = 1\n",
    "data.loc[data['di2'] == '01', 'complaint_injury'] = 1\n",
    "data.loc[data['di2'] == '02', 'non_incapacitation'] = 1\n",
    "data.loc[data['di2'] == '03', 'incapacitation'] = 1\n",
    "data.loc[data['di2'] == '04', 'fatal'] = 1\n",
    "\n",
    "data.loc[data['di3'] == '0', 'no_injury'] = 1\n",
    "data.loc[data['di3'] == '01', 'complaint_injury'] = 1\n",
    "data.loc[data['di3'] == '02', 'non_incapacitation'] = 1\n",
    "data.loc[data['di3'] == '03', 'incapacitation'] = 1\n",
    "data.loc[data['di3'] == '04', 'fatal'] = 1"
   ]
  },
  {
   "cell_type": "code",
   "execution_count": null,
   "metadata": {},
   "outputs": [],
   "source": [
    "data['Bicycles'] = 0\n",
    "bicycle_related_codes = ['13']\n",
    "\n",
    "data.loc[data['vt1'] == '13', 'Bicycles'] = 1\n",
    "data.loc[data['vt2'] == '13', 'Bicycles'] = 1\n",
    "data.loc[data['vt3'] == '13', 'Bicycles'] = 1\n",
    "\n",
    "data.loc[data['act1'] == '15', 'Bicycles'] = 1\n",
    "data.loc[data['act2'] == '15', 'Bicycles'] = 1\n",
    "data.loc[data['act3'] == '15', 'Bicycles'] = 1\n",
    "data.loc[data['mhe'] == '15', 'Bicycles'] = 1\n",
    "data.loc[data['acctype'] == '15', 'Bicycles'] = 1\n",
    "\n",
    "\n",
    "data['Bicycles'] = data['Bicycles'].astype('int')"
   ]
  },
  {
   "cell_type": "markdown",
   "metadata": {},
   "source": [
    "Setup latitude & longitude column"
   ]
  },
  {
   "cell_type": "code",
   "execution_count": null,
   "metadata": {},
   "outputs": [],
   "source": [
    "data['Latitude'] = data['latitude']\n",
    "data['Longitude'] = data['longitude']"
   ]
  },
  {
   "cell_type": "markdown",
   "metadata": {},
   "source": [
    "Some key statistics"
   ]
  },
  {
   "cell_type": "code",
   "execution_count": null,
   "metadata": {},
   "outputs": [],
   "source": [
    "print('Accidents between '+str(data['Date'].min())+' and '+str(data['Date'].max()))\n",
    "\n",
    "total_accidents = data.shape[0]\n",
    "print(\"There are a total of \"+str(total_accidents)+\" accidents.\")\n",
    "\n",
    "fatalities = data['fatal'].sum()\n",
    "print(\"There are a total of \"+str(fatalities)+\" fatalities.\")\n",
    "\n",
    "incapacitated = data['incapacitation'].sum()\n",
    "print(\"There are a total of \"+str(incapacitated)+\" incapacitated.\")\n",
    "\n",
    "non_incapacitating = data['non_incapacitation'].sum()\n",
    "print(\"There are a total of \"+str(non_incapacitating)+\" non_incapacitating.\")\n",
    "\n",
    "complaint_injuries = data['complaint_injury'].sum()\n",
    "print(\"There are a total of \"+str(complaint_injuries)+\" complaint_injuries.\")\n",
    "\n",
    "non_injuries = data['no_injury'].sum()\n",
    "print(\"There are a total of \"+str(non_injuries)+\" non_injuries.\")\n",
    "\n",
    "bicycles = data[data['Bicycles']>0].shape[0]\n",
    "print(\"There are a total of \"+str(bicycles)+\" bicycles involved in all the accidents.\")"
   ]
  },
  {
   "cell_type": "markdown",
   "metadata": {},
   "source": [
    "Slice all bicycle accidents"
   ]
  },
  {
   "cell_type": "code",
   "execution_count": null,
   "metadata": {},
   "outputs": [],
   "source": [
    "data_bicycles = data[data['Bicycles']>0]"
   ]
  },
  {
   "cell_type": "code",
   "execution_count": null,
   "metadata": {},
   "outputs": [],
   "source": [
    "data_bicycles.head()"
   ]
  },
  {
   "cell_type": "markdown",
   "metadata": {},
   "source": [
    "Save to file"
   ]
  },
  {
   "cell_type": "code",
   "execution_count": null,
   "metadata": {},
   "outputs": [],
   "source": [
    "print(data_bicycles.shape)\n",
    "data_bicycles.to_csv('cycling_safety_colorado.csv')\n",
    "print('Wrote file to: cycling_safety_colorado.csv')"
   ]
  }
 ],
 "metadata": {
  "kernelspec": {
   "display_name": "Python 3",
   "language": "python",
   "name": "python3"
  },
  "language_info": {
   "codemirror_mode": {
    "name": "ipython",
    "version": 3
   },
   "file_extension": ".py",
   "mimetype": "text/x-python",
   "name": "python",
   "nbconvert_exporter": "python",
   "pygments_lexer": "ipython3",
   "version": "3.8.5"
  }
 },
 "nbformat": 4,
 "nbformat_minor": 4
}
