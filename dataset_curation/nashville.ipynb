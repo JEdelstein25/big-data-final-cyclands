{
 "cells": [
  {
   "cell_type": "markdown",
   "metadata": {},
   "source": [
    "# Nashville, USA"
   ]
  },
  {
   "cell_type": "markdown",
   "metadata": {},
   "source": [
    "**Source of original dataset:** https://data.nashville.gov/Police/Traffic-Accidents/6v6w-hpcw\n",
    "\n",
    "**Location of accidents:** Latitude, Longitude\n",
    "\n",
    "**Date of accidents:** Date\n",
    "\n",
    "**Outcome of accidents:** Fatality, Injury, PDO"
   ]
  },
  {
   "cell_type": "code",
   "execution_count": null,
   "metadata": {},
   "outputs": [],
   "source": [
    "import pandas as pd\n",
    "pd.set_option('max_columns', None)\n",
    "pd.set_option('display.max_colwidth', -1)\n",
    "import numpy as np\n",
    "from plotly import graph_objects as go\n",
    "import plotly.express as px\n",
    "from itertools import chain\n",
    "import matplotlib.pyplot as plt\n",
    "import pyproj"
   ]
  },
  {
   "cell_type": "markdown",
   "metadata": {},
   "source": [
    "Setup input files"
   ]
  },
  {
   "cell_type": "code",
   "execution_count": null,
   "metadata": {},
   "outputs": [],
   "source": [
    "data_dir = \"../data/nashville/\"\n",
    "metadata_file = data_dir + \"data_std/metadata.xlsx\"\n",
    "data_file = data_dir + \"Traffic_Accidents__2020_.csv\""
   ]
  },
  {
   "cell_type": "markdown",
   "metadata": {},
   "source": [
    "Read original data"
   ]
  },
  {
   "cell_type": "code",
   "execution_count": null,
   "metadata": {},
   "outputs": [],
   "source": [
    "data = pd.read_csv(data_file)"
   ]
  },
  {
   "cell_type": "markdown",
   "metadata": {},
   "source": [
    "Create Datetime column"
   ]
  },
  {
   "cell_type": "code",
   "execution_count": null,
   "metadata": {},
   "outputs": [],
   "source": [
    "data['Date'] = pd.to_datetime(data['Date and Time'])"
   ]
  },
  {
   "cell_type": "markdown",
   "metadata": {},
   "source": [
    "Setup bicycles filter"
   ]
  },
  {
   "cell_type": "code",
   "execution_count": null,
   "metadata": {},
   "outputs": [],
   "source": [
    "data[['Harmful Condition Code_'+str(x) for x in range(14)]] = data['Harmful Condition Code'].str.split(';',expand=True)\n",
    "data[['Harmful Condition Description_'+str(x) for x in range(14)]] = data['Harmful Condition Description'].str.split(';',expand=True)"
   ]
  },
  {
   "cell_type": "code",
   "execution_count": null,
   "metadata": {},
   "outputs": [],
   "source": [
    "mask = (data['Harmful Condition Code_0'].astype('float') == 9) |\\\n",
    "        (data['Harmful Condition Code_1'].astype('float') == 9) | \\\n",
    "        (data['Harmful Condition Code_2'].astype('float') == 9) |\\\n",
    "        (data['Harmful Condition Code_3'].astype('float') == 9) |\\\n",
    "        (data['Harmful Condition Code_4'].astype('float') == 9) |\\\n",
    "        (data['Harmful Condition Code_5'].astype('float') == 9) |\\\n",
    "        (data['Harmful Condition Code_6'].astype('float') == 9) |\\\n",
    "        (data['Harmful Condition Code_7'].astype('float') == 9) |\\\n",
    "        (data['Harmful Condition Code_8'].astype('float') == 9) |\\\n",
    "        (data['Harmful Condition Code_9'].astype('float') == 9) |\\\n",
    "        (data['Harmful Condition Code_10'].astype('float') == 9) |\\\n",
    "        (data['Harmful Condition Code_11'].astype('float') == 9) |\\\n",
    "        (data['Harmful Condition Code_12'].astype('float') == 9) |\\\n",
    "        (data['Harmful Condition Code_13'].astype('float') == 9) \n",
    "bicycles = data.loc[mask].copy().reset_index()"
   ]
  },
  {
   "cell_type": "markdown",
   "metadata": {},
   "source": [
    "Some key statistics"
   ]
  },
  {
   "cell_type": "code",
   "execution_count": null,
   "metadata": {},
   "outputs": [],
   "source": [
    "print('Accidents between '+str(data['Date'].min())+' and '+str(data['Date'].max()))\n",
    "\n",
    "total_accidents = data.shape[0]\n",
    "print(\"There are a total of \"+str(total_accidents)+\" accidents.\")\n",
    "\n",
    "fatalities = data[\"Number of Fatalities\"].sum()\n",
    "print(\"There are a total of \"+str(fatalities)+\" fatalities.\")\n",
    "\n",
    "injuries = data[\"Number of Injuries\"].sum()\n",
    "print(\"There are a total of \"+str(injuries)+\" injured.\")\n",
    "\n",
    "print(\"There are a total of \"+str(bicycles.shape[0])+\" accidents involving bicycles.\")\n"
   ]
  },
  {
   "cell_type": "markdown",
   "metadata": {},
   "source": [
    "Slice all bicycle accidents"
   ]
  },
  {
   "cell_type": "code",
   "execution_count": null,
   "metadata": {},
   "outputs": [],
   "source": [
    "data_bicycles = bicycles"
   ]
  },
  {
   "cell_type": "code",
   "execution_count": null,
   "metadata": {},
   "outputs": [],
   "source": [
    "data_bicycles.head()"
   ]
  },
  {
   "cell_type": "markdown",
   "metadata": {},
   "source": [
    "Save to file"
   ]
  },
  {
   "cell_type": "code",
   "execution_count": null,
   "metadata": {},
   "outputs": [],
   "source": [
    "print(data_bicycles.shape)\n",
    "data_bicycles.to_csv('cycling_safety_nashville.csv')\n",
    "print('Wrote file to: cycling_safety_nashville.csv')"
   ]
  }
 ],
 "metadata": {
  "kernelspec": {
   "display_name": "Python 3",
   "language": "python",
   "name": "python3"
  },
  "language_info": {
   "codemirror_mode": {
    "name": "ipython",
    "version": 3
   },
   "file_extension": ".py",
   "mimetype": "text/x-python",
   "name": "python",
   "nbconvert_exporter": "python",
   "pygments_lexer": "ipython3",
   "version": "3.8.5"
  }
 },
 "nbformat": 4,
 "nbformat_minor": 4
}
