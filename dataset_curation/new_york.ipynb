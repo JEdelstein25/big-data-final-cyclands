{
 "cells": [
  {
   "cell_type": "markdown",
   "metadata": {},
   "source": [
    "# New York, USA"
   ]
  },
  {
   "cell_type": "markdown",
   "metadata": {},
   "source": [
    "**Source of original dataset:** https://data.cityofnewyork.us/Public-Safety/Motor-Vehicle-Collisions-Crashes/h9gi-nx95\n",
    "\n",
    "**Location of accidents:** Latitude, Longitude\n",
    "\n",
    "**Date of accidents:** Date\n",
    "\n",
    "**Outcome of accidents:** Fatality, Injury, PDO"
   ]
  },
  {
   "cell_type": "code",
   "execution_count": null,
   "metadata": {},
   "outputs": [],
   "source": [
    "import pandas as pd\n",
    "pd.set_option('max_columns', None)\n",
    "pd.set_option('display.max_colwidth', -1)\n",
    "import numpy as np\n",
    "from plotly import graph_objects as go\n",
    "import plotly.express as px\n",
    "from itertools import chain\n",
    "import matplotlib.pyplot as plt\n",
    "import pyproj"
   ]
  },
  {
   "cell_type": "markdown",
   "metadata": {},
   "source": [
    "Setup input files"
   ]
  },
  {
   "cell_type": "code",
   "execution_count": null,
   "metadata": {},
   "outputs": [],
   "source": [
    "data_dir = '../data/new_york/'\n",
    "new_york_data = data_dir + 'Motor_Vehicle_Collisions_-_Crashes.csv'"
   ]
  },
  {
   "cell_type": "markdown",
   "metadata": {},
   "source": [
    "Read original data"
   ]
  },
  {
   "cell_type": "code",
   "execution_count": null,
   "metadata": {},
   "outputs": [],
   "source": [
    "data = pd.read_csv(new_york_data);"
   ]
  },
  {
   "cell_type": "markdown",
   "metadata": {},
   "source": [
    "Create Datetime column"
   ]
  },
  {
   "cell_type": "code",
   "execution_count": null,
   "metadata": {},
   "outputs": [],
   "source": [
    "data['CRASH DATE'] = data['CRASH DATE'].astype('str')\n",
    "data['Date'] = pd.to_datetime(data['CRASH DATE'], format='%m/%d/%Y')"
   ]
  },
  {
   "cell_type": "markdown",
   "metadata": {},
   "source": [
    "Setup bicycles filter"
   ]
  },
  {
   "cell_type": "code",
   "execution_count": null,
   "metadata": {},
   "outputs": [],
   "source": [
    "index_1 = data.index[(data['VEHICLE TYPE CODE 1'] == 'BICYCLE') |\n",
    "                     (data['VEHICLE TYPE CODE 1'] == 'Bike') |\n",
    "                     (data['VEHICLE TYPE CODE 1'] == 'E-Bik') |\n",
    "                     (data['VEHICLE TYPE CODE 1'] == 'E bik') |\n",
    "                     (data['VEHICLE TYPE CODE 1'] == 'E - B') |\n",
    "                     (data['VEHICLE TYPE CODE 1'] == 'E-BIK') |\n",
    "                     (data['VEHICLE TYPE CODE 1'] == 'Bicyc') |\n",
    "                     (data['VEHICLE TYPE CODE 1'] == 'BICYC') |\n",
    "                     (data['VEHICLE TYPE CODE 1'] == 'e-bik') |\n",
    "                     (data['VEHICLE TYPE CODE 1'] == 'EBIKE') |\n",
    "                     (data['VEHICLE TYPE CODE 1'] == 'BICYC') |\n",
    "                     (data['VEHICLE TYPE CODE 1'] == 'BICYC')].tolist()\n",
    "data.loc[index_1, 'VEHICLE TYPE CODE 1'] = 'bicycle'\n",
    "\n",
    "index_2 = data.index[(data['VEHICLE TYPE CODE 2'] == 'BICYCLE') |\n",
    "                     (data['VEHICLE TYPE CODE 2'] == 'Bike') |\n",
    "                     (data['VEHICLE TYPE CODE 2'] == 'E-Bik') |\n",
    "                     (data['VEHICLE TYPE CODE 2'] == 'E bik') |\n",
    "                     (data['VEHICLE TYPE CODE 2'] == 'E - B') |\n",
    "                     (data['VEHICLE TYPE CODE 2'] == 'E-BIK') |\n",
    "                     (data['VEHICLE TYPE CODE 2'] == 'Bicyc') |\n",
    "                     (data['VEHICLE TYPE CODE 2'] == 'BICYC') |\n",
    "                     (data['VEHICLE TYPE CODE 2'] == 'e-bik') |\n",
    "                     (data['VEHICLE TYPE CODE 2'] == 'EBIKE') |\n",
    "                     (data['VEHICLE TYPE CODE 2'] == 'BICYC') |\n",
    "                     (data['VEHICLE TYPE CODE 2'] == 'BICYC')].tolist()\n",
    "data.loc[index_2, 'VEHICLE TYPE CODE 2'] = 'bicycle'\n",
    "\n",
    "index_3 = data.index[(data['VEHICLE TYPE CODE 3'] == 'BICYCLE') |\n",
    "                     (data['VEHICLE TYPE CODE 3'] == 'Bike') |\n",
    "                     (data['VEHICLE TYPE CODE 3'] == 'E-Bik') |\n",
    "                     (data['VEHICLE TYPE CODE 3'] == 'E bik') |\n",
    "                     (data['VEHICLE TYPE CODE 3'] == 'E - B') |\n",
    "                     (data['VEHICLE TYPE CODE 3'] == 'E-BIK') |\n",
    "                     (data['VEHICLE TYPE CODE 3'] == 'Bicyc') |\n",
    "                     (data['VEHICLE TYPE CODE 3'] == 'BICYC') |\n",
    "                     (data['VEHICLE TYPE CODE 3'] == 'e-bik') |\n",
    "                     (data['VEHICLE TYPE CODE 3'] == 'EBIKE') |\n",
    "                     (data['VEHICLE TYPE CODE 3'] == 'BICYC') |\n",
    "                     (data['VEHICLE TYPE CODE 3'] == 'BICYC')].tolist()\n",
    "data.loc[index_3, 'VEHICLE TYPE CODE 3'] = 'bicycle'\n",
    "\n",
    "index_4 = data.index[(data['VEHICLE TYPE CODE 4'] == 'BICYCLE') |\n",
    "                     (data['VEHICLE TYPE CODE 4'] == 'Bike') |\n",
    "                     (data['VEHICLE TYPE CODE 4'] == 'E-Bik') |\n",
    "                     (data['VEHICLE TYPE CODE 4'] == 'E bik') |\n",
    "                     (data['VEHICLE TYPE CODE 4'] == 'E - B') |\n",
    "                     (data['VEHICLE TYPE CODE 4'] == 'E-BIK') |\n",
    "                     (data['VEHICLE TYPE CODE 4'] == 'Bicyc') |\n",
    "                     (data['VEHICLE TYPE CODE 4'] == 'BICYC') |\n",
    "                     (data['VEHICLE TYPE CODE 4'] == 'e-bik') |\n",
    "                     (data['VEHICLE TYPE CODE 4'] == 'EBIKE') |\n",
    "                     (data['VEHICLE TYPE CODE 4'] == 'BICYC') |\n",
    "                     (data['VEHICLE TYPE CODE 4'] == 'BICYC')].tolist()\n",
    "data.loc[index_4, 'VEHICLE TYPE CODE 4'] = 'bicycle'\n",
    "\n",
    "index_5 = data.index[(data['VEHICLE TYPE CODE 5'] == 'BICYCLE') |\n",
    "                     (data['VEHICLE TYPE CODE 5'] == 'Bike') |\n",
    "                     (data['VEHICLE TYPE CODE 5'] == 'E-Bik') |\n",
    "                     (data['VEHICLE TYPE CODE 5'] == 'E bik') |\n",
    "                     (data['VEHICLE TYPE CODE 5'] == 'E - B') |\n",
    "                     (data['VEHICLE TYPE CODE 5'] == 'E-BIK') |\n",
    "                     (data['VEHICLE TYPE CODE 5'] == 'Bicyc') |\n",
    "                     (data['VEHICLE TYPE CODE 5'] == 'BICYC') |\n",
    "                     (data['VEHICLE TYPE CODE 5'] == 'e-bik') |\n",
    "                     (data['VEHICLE TYPE CODE 5'] == 'EBIKE') |\n",
    "                     (data['VEHICLE TYPE CODE 5'] == 'BICYC') |\n",
    "                     (data['VEHICLE TYPE CODE 5'] == 'BICYC')].tolist()\n",
    "data.loc[index_5, 'VEHICLE TYPE CODE 1'] = 'bicycle'"
   ]
  },
  {
   "cell_type": "markdown",
   "metadata": {},
   "source": [
    "Setup Latitude & longitude columns"
   ]
  },
  {
   "cell_type": "code",
   "execution_count": null,
   "metadata": {},
   "outputs": [],
   "source": [
    "data['Longitude'] = data['LONGITUDE']\n",
    "data['Latitude'] = data['LATITUDE']"
   ]
  },
  {
   "cell_type": "markdown",
   "metadata": {},
   "source": [
    "Some key statistics"
   ]
  },
  {
   "cell_type": "code",
   "execution_count": null,
   "metadata": {},
   "outputs": [],
   "source": [
    "print('Accidents between '+str(data['Date'].min())+' and '+str(data['Date'].max()))"
   ]
  },
  {
   "cell_type": "markdown",
   "metadata": {},
   "source": [
    "Slice all bicycle accidents"
   ]
  },
  {
   "cell_type": "code",
   "execution_count": null,
   "metadata": {},
   "outputs": [],
   "source": [
    "data_bicycles = data[(data['VEHICLE TYPE CODE 1'] == 'bicycle') |\n",
    "                     (data['VEHICLE TYPE CODE 2'] == 'bicycle') |\n",
    "                     (data['VEHICLE TYPE CODE 3'] == 'bicycle') |\n",
    "                     (data['VEHICLE TYPE CODE 4'] == 'bicycle') |\n",
    "                     (data['VEHICLE TYPE CODE 5'] == 'bicycle') \n",
    "                    ]"
   ]
  },
  {
   "cell_type": "code",
   "execution_count": null,
   "metadata": {},
   "outputs": [],
   "source": [
    "data_bicycles.head()"
   ]
  },
  {
   "cell_type": "markdown",
   "metadata": {},
   "source": [
    "Save to file"
   ]
  },
  {
   "cell_type": "code",
   "execution_count": null,
   "metadata": {},
   "outputs": [],
   "source": [
    "print(data_bicycles.shape)\n",
    "data_bicycles.to_csv('cycling_safety_new_york.csv')\n",
    "print('Wrote file to: cycling_safety_new_york.csv')"
   ]
  }
 ],
 "metadata": {
  "kernelspec": {
   "display_name": "Python 3",
   "language": "python",
   "name": "python3"
  },
  "language_info": {
   "codemirror_mode": {
    "name": "ipython",
    "version": 3
   },
   "file_extension": ".py",
   "mimetype": "text/x-python",
   "name": "python",
   "nbconvert_exporter": "python",
   "pygments_lexer": "ipython3",
   "version": "3.8.5"
  }
 },
 "nbformat": 4,
 "nbformat_minor": 4
}
