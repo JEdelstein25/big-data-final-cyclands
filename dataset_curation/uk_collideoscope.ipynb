{
 "cells": [
  {
   "cell_type": "markdown",
   "metadata": {},
   "source": [
    "# UK Collideoscope"
   ]
  },
  {
   "cell_type": "markdown",
   "metadata": {},
   "source": [
    "**Source of original dataset:** collideoscope.org.uk\n",
    "\n",
    "**Location of accidents:** Latitude, Longitude\n",
    "\n",
    "**Date of accidents:** Date\n",
    "\n",
    "**Outcome of accidents:** Fatality, Serious Injury, Injury, Near Miss"
   ]
  },
  {
   "cell_type": "code",
   "execution_count": null,
   "metadata": {},
   "outputs": [],
   "source": [
    "import pandas as pd\n",
    "pd.set_option('max_columns', None)\n",
    "pd.set_option('display.max_colwidth', -1)\n",
    "import numpy as np\n",
    "from plotly import graph_objects as go\n",
    "import plotly.express as px\n",
    "from itertools import chain\n",
    "import matplotlib.pyplot as plt\n",
    "import pyproj\n",
    "import glob"
   ]
  },
  {
   "cell_type": "markdown",
   "metadata": {},
   "source": [
    "Setup input files"
   ]
  },
  {
   "cell_type": "code",
   "execution_count": null,
   "metadata": {},
   "outputs": [],
   "source": [
    "data_dir = \"../data/uk_collideoscope/\""
   ]
  },
  {
   "cell_type": "markdown",
   "metadata": {},
   "source": [
    "Read original data"
   ]
  },
  {
   "cell_type": "code",
   "execution_count": null,
   "metadata": {},
   "outputs": [],
   "source": [
    "data = pd.read_csv(data_dir + 'collideoscope-data.csv', encoding = \"ISO-8859-1\")"
   ]
  },
  {
   "cell_type": "markdown",
   "metadata": {},
   "source": [
    "Create Datetime column"
   ]
  },
  {
   "cell_type": "code",
   "execution_count": null,
   "metadata": {},
   "outputs": [],
   "source": [
    "data['Date'] = pd.to_datetime(data['Confirmed'])"
   ]
  },
  {
   "cell_type": "markdown",
   "metadata": {},
   "source": [
    "Setup outcome variables"
   ]
  },
  {
   "cell_type": "code",
   "execution_count": null,
   "metadata": {},
   "outputs": [],
   "source": [
    "data['fatal']= 0\n",
    "data['serious']= 0\n",
    "data['slight']= 0\n",
    "data['miss']= 0\n",
    "\n",
    "data.loc[data['Category'] == 'vehicle-fatal', 'fatal'] = 1\n",
    "data.loc[data['Category'] == 'bicycle-fatal', 'fatal'] = 1\n",
    "data.loc[data['Category'] == 'pedestrian-fatal', 'fatal'] = 1\n",
    "data.loc[data['Category'] == 'horse-fatal', 'fatal'] = 1\n",
    "data.loc[data['Category'] == 'generic-fatal', 'fatal'] = 1\n",
    "\n",
    "data.loc[data['Category'] == 'vehicle-serious', 'serious'] = 1\n",
    "data.loc[data['Category'] == 'bicycle-serious', 'serious'] = 1\n",
    "data.loc[data['Category'] == 'pedestrian-serious', 'serious'] = 1\n",
    "data.loc[data['Category'] == 'horse-serious', 'serious'] = 1\n",
    "data.loc[data['Category'] == 'generic-serious', 'serious'] = 1\n",
    "\n",
    "data.loc[data['Category'] == 'vehicle-slight', 'slight'] = 1\n",
    "data.loc[data['Category'] == 'bicycle-slight', 'slight'] = 1\n",
    "data.loc[data['Category'] == 'pedestrian-slight', 'slight'] = 1\n",
    "data.loc[data['Category'] == 'horse-slight', 'slight'] = 1\n",
    "data.loc[data['Category'] == 'generic-slight', 'slight'] = 1\n",
    "\n",
    "data.loc[data['Category'] == 'vehicle-miss', 'miss'] = 1\n",
    "data.loc[data['Category'] == 'bicycle-miss', 'miss'] = 1\n",
    "data.loc[data['Category'] == 'pedestrian-miss', 'miss'] = 1\n",
    "data.loc[data['Category'] == 'horse-miss', 'miss'] = 1\n",
    "data.loc[data['Category'] == 'generic-miss', 'miss'] = 1"
   ]
  },
  {
   "cell_type": "markdown",
   "metadata": {},
   "source": [
    "Some key statistics"
   ]
  },
  {
   "cell_type": "code",
   "execution_count": null,
   "metadata": {},
   "outputs": [],
   "source": [
    "print('Accidents between '+str(data['Date'].min())+' and '+str(data['Date'].max()))\n",
    "\n",
    "total_accidents = data.shape[0]\n",
    "print(\"There are a total of \"+str(total_accidents)+\" accidents.\")\n",
    "\n",
    "fatalities = data['fatal'].sum()\n",
    "print(\"There are a total of \"+str(fatalities)+\" fatalities.\")\n",
    "\n",
    "serious_injuries = data['serious'].sum()\n",
    "print(\"There are a total of \"+str(serious_injuries)+\" seriously injured.\")\n",
    "\n",
    "injuries = data['slight'].sum()\n",
    "print(\"There are a total of \"+str(injuries)+\" slightly injured.\")\n",
    "\n",
    "miss = data['miss'].sum()\n",
    "print(\"There are a total of \"+str(miss)+\" missed.\")\n",
    "\n",
    "bicycles = data.shape[0]\n",
    "print(\"There are a total of \"+str(bicycles)+\" bicycles involved in all the accidents.\")"
   ]
  },
  {
   "cell_type": "markdown",
   "metadata": {},
   "source": [
    "Slice all bicycle accidents"
   ]
  },
  {
   "cell_type": "code",
   "execution_count": null,
   "metadata": {},
   "outputs": [],
   "source": [
    "data_bicycles = data"
   ]
  },
  {
   "cell_type": "code",
   "execution_count": null,
   "metadata": {},
   "outputs": [],
   "source": [
    "data_bicycles.head()"
   ]
  },
  {
   "cell_type": "markdown",
   "metadata": {},
   "source": [
    "Save to file"
   ]
  },
  {
   "cell_type": "code",
   "execution_count": null,
   "metadata": {},
   "outputs": [],
   "source": [
    "print(data_bicycles.shape)\n",
    "data_bicycles.to_csv('cycling_safety_uk_collideoscope.csv')\n",
    "print('Wrote file to: cycling_safety_uk_collideoscope.csv')"
   ]
  }
 ],
 "metadata": {
  "kernelspec": {
   "display_name": "Python 3",
   "language": "python",
   "name": "python3"
  },
  "language_info": {
   "codemirror_mode": {
    "name": "ipython",
    "version": 3
   },
   "file_extension": ".py",
   "mimetype": "text/x-python",
   "name": "python",
   "nbconvert_exporter": "python",
   "pygments_lexer": "ipython3",
   "version": "3.7.4"
  }
 },
 "nbformat": 4,
 "nbformat_minor": 4
}
