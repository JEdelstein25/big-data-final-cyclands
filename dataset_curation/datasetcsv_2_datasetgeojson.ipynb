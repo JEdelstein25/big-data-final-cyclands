{
 "cells": [
  {
   "cell_type": "code",
   "execution_count": null,
   "metadata": {},
   "outputs": [],
   "source": [
    "import geopandas as gpd\n",
    "import pandas as pd\n",
    "import os"
   ]
  },
  {
   "cell_type": "markdown",
   "metadata": {},
   "source": [
    "Create list of datasets to transform to GeoJson and Shapefile. Select the output directory"
   ]
  },
  {
   "cell_type": "code",
   "execution_count": null,
   "metadata": {},
   "outputs": [],
   "source": [
    "datasets_csv = [\n",
    "    '../data_curated/cycling_safety_barcelona.csv',\n",
    "    '../data_curated/cycling_safety_cambridge.csv',\n",
    "    '../data_curated/cycling_safety_chicago.csv',\n",
    "    '../data_curated/cycling_safety_colorado.csv',\n",
    "    '../data_curated/cycling_safety_connecticut.csv',\n",
    "    '../data_curated/cycling_safety_denver.csv',\n",
    "#     '../data_curated/cycling_safety_detroit.csv',\n",
    "    '../data_curated/cycling_safety_france.csv',\n",
    "    '../data_curated/cycling_safety_geneva.csv',\n",
    "    '../data_curated/cycling_safety_germany.csv',\n",
    "    '../data_curated/cycling_safety_helsinki.csv',\n",
    "#     '../data_curated/cycling_safety_las_vegas.csv',\n",
    "    '../data_curated/cycling_safety_los_angeles.csv',\n",
    "    '../data_curated/cycling_safety_louisville.csv',\n",
    "#     '../data_curated/cycling_safety_madrid.csv',\n",
    "    '../data_curated/cycling_safety_nantes.csv',\n",
    "    '../data_curated/cycling_safety_nashville.csv',\n",
    "    '../data_curated/cycling_safety_netherlands.csv',\n",
    "    '../data_curated/cycling_safety_new_york.csv',\n",
    "    '../data_curated/cycling_safety_pasadena.csv',\n",
    "    '../data_curated/cycling_safety_pennsylvania.csv',\n",
    "    '../data_curated/cycling_safety_queensland.csv',\n",
    "    '../data_curated/cycling_safety_richmond.csv',\n",
    "    '../data_curated/cycling_safety_rome.csv',\n",
    "    '../data_curated/cycling_safety_san_jose.csv',\n",
    "    '../data_curated/cycling_safety_seattle.csv',\n",
    "    '../data_curated/cycling_safety_uk_collideoscope.csv',\n",
    "    '../data_curated/cycling_safety_uk_gov.csv',\n",
    "    '../data_curated/cycling_safety_victoria.csv',\n",
    "    '../data_curated/cycling_safety_washington_dc.csv'\n",
    "]\n",
    "\n",
    "output_directory = [\n",
    "    '../data_final/barcelona',\n",
    "    '../data_final/cambridgeshire',\n",
    "    '../data_final/chicago',\n",
    "    '../data_final/colorado',\n",
    "    '../data_final/connecticut',\n",
    "    '../data_final/denver',\n",
    "#     '../data_final/detroit',\n",
    "    '../data_final/france',\n",
    "    '../data_final/geneva',\n",
    "    '../data_final/germany',\n",
    "    '../data_final/helsinki',\n",
    "#     '../data_final/las_vegas',\n",
    "    '../data_final/los_angeles',\n",
    "    '../data_final/louisville',\n",
    "#     '../data_final/madrid',\n",
    "    '../data_final/nantes',\n",
    "    '../data_final/nashville',\n",
    "    '../data_final/netherlands',\n",
    "    '../data_final/new_york',\n",
    "    '../data_final/pasadena',\n",
    "    '../data_final/pennsylvania',\n",
    "    '../data_final/queensland',\n",
    "    '../data_final/richmond',\n",
    "    '../data_final/rome',\n",
    "    '../data_final/san_jose',\n",
    "    '../data_final/seattle',\n",
    "    '../data_final/uk_collideoscope',\n",
    "    '../data_final/uk_gov',\n",
    "    '../data_final/victoria',\n",
    "    '../data_final/washington_dc'\n",
    "]"
   ]
  },
  {
   "cell_type": "markdown",
   "metadata": {},
   "source": [
    "Iterate over the datasets"
   ]
  },
  {
   "cell_type": "code",
   "execution_count": null,
   "metadata": {},
   "outputs": [],
   "source": [
    "for dataset_csv, output_dir in zip(datasets_csv, output_directory):\n",
    "    print('Dataset: ', dataset_csv)\n",
    "    print('Writting output to: ', output_dir)\n",
    "    \n",
    "    data = pd.read_csv(dataset_csv)\n",
    "    data = gpd.GeoDataFrame(data)\n",
    "    data = data.set_geometry(gpd.points_from_xy(data.Longitude, data.Latitude))\n",
    "    \n",
    "    \n",
    "    data.to_file(os.path.join(output_dir, os.path.split(os.path.abspath(dataset_csv))[1].replace('.csv', '.geojson')), driver='GeoJSON')\n",
    "    print()"
   ]
  },
  {
   "cell_type": "code",
   "execution_count": null,
   "metadata": {},
   "outputs": [],
   "source": []
  }
 ],
 "metadata": {
  "kernelspec": {
   "display_name": "Python 3 (ipykernel)",
   "language": "python",
   "name": "python3"
  },
  "language_info": {
   "codemirror_mode": {
    "name": "ipython",
    "version": 3
   },
   "file_extension": ".py",
   "mimetype": "text/x-python",
   "name": "python",
   "nbconvert_exporter": "python",
   "pygments_lexer": "ipython3",
   "version": "3.9.7"
  }
 },
 "nbformat": 4,
 "nbformat_minor": 1
}