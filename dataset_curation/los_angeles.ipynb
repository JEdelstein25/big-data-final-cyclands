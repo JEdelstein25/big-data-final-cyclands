{
 "cells": [
  {
   "cell_type": "markdown",
   "metadata": {},
   "source": [
    "# Los Angeles, USA"
   ]
  },
  {
   "cell_type": "markdown",
   "metadata": {},
   "source": [
    "**Source of original dataset:** https://data.lacity.org/A-Safe-City/Traffic-Collision-Data-from-2010-to-Present/d5tf-ez2w\n",
    "\n",
    "**Location of accidents:** Latitude, Longitude\n",
    "\n",
    "**Date of accidents:** Date\n",
    "\n",
    "**Outcome of accidents:** Fatality, Serious Injury, Injury, Complain Injury, No Injury"
   ]
  },
  {
   "cell_type": "code",
   "execution_count": null,
   "metadata": {},
   "outputs": [],
   "source": [
    "import pandas as pd\n",
    "pd.set_option('max_columns', None)\n",
    "pd.set_option('display.max_colwidth', -1)\n",
    "import numpy as np\n",
    "from plotly import graph_objects as go\n",
    "import plotly.express as px\n",
    "from itertools import chain\n",
    "import matplotlib.pyplot as plt\n",
    "import pyproj"
   ]
  },
  {
   "cell_type": "markdown",
   "metadata": {},
   "source": [
    "Setup input files"
   ]
  },
  {
   "cell_type": "code",
   "execution_count": null,
   "metadata": {},
   "outputs": [],
   "source": [
    "data_dir = \"../data/los_angeles/\"\n",
    "\n",
    "data_file = data_dir + \"Traffic_Collision_Data_from_2010_to_Present.csv\""
   ]
  },
  {
   "cell_type": "markdown",
   "metadata": {},
   "source": [
    "Read original data"
   ]
  },
  {
   "cell_type": "code",
   "execution_count": null,
   "metadata": {},
   "outputs": [],
   "source": [
    "data = pd.read_csv(data_file)"
   ]
  },
  {
   "cell_type": "markdown",
   "metadata": {},
   "source": [
    "Transform columns into right type and separate codes"
   ]
  },
  {
   "cell_type": "code",
   "execution_count": null,
   "metadata": {},
   "outputs": [],
   "source": [
    "data = pd.concat([data, data['MO Codes'].str.split(' ', expand=True)], axis=1)\n",
    "data.fillna(value=0, inplace=True)\n",
    "\n",
    "data = data.rename(columns={0: \"MO_CODE_0\", \n",
    "                            1: \"MO_CODE_1\",\n",
    "                            2: \"MO_CODE_2\",\n",
    "                            3: \"MO_CODE_3\",\n",
    "                            4: \"MO_CODE_4\",\n",
    "                            5: \"MO_CODE_5\",\n",
    "                            6: \"MO_CODE_6\",\n",
    "                            7: \"MO_CODE_7\",\n",
    "                            8: \"MO_CODE_8\",\n",
    "                            9: \"MO_CODE_9\"})\n",
    "data['MO_CODE_0'] = data['MO_CODE_0'].astype('int')\n",
    "data['MO_CODE_1'] = data['MO_CODE_1'].astype('int')\n",
    "data['MO_CODE_2'] = data['MO_CODE_2'].astype('int')\n",
    "data['MO_CODE_3'] = data['MO_CODE_3'].astype('int')\n",
    "data['MO_CODE_4'] = data['MO_CODE_4'].astype('int')\n",
    "data['MO_CODE_5'] = data['MO_CODE_5'].astype('int')\n",
    "data['MO_CODE_6'] = data['MO_CODE_6'].astype('int')\n",
    "data['MO_CODE_7'] = data['MO_CODE_7'].astype('int')\n",
    "data['MO_CODE_8'] = data['MO_CODE_8'].astype('int')\n",
    "data['MO_CODE_9'] = data['MO_CODE_9'].astype('int')"
   ]
  },
  {
   "cell_type": "code",
   "execution_count": null,
   "metadata": {},
   "outputs": [],
   "source": [
    "bicycle_related_codes = ['3008', '3016', '3017', '3018', '3021', '345', '1223', '3062', '3603']\n",
    "data['Bicycles'] = data['MO Codes'].str.contains('|'.join(bicycle_related_codes))\n",
    "data['Bicycles'].fillna(value=0, inplace=True)\n",
    "data['Bicycles'] = data['Bicycles'].astype('int')\n",
    "\n",
    "data['Fatalities'] = data['MO Codes'].str.contains('3027')\n",
    "data['Fatalities'].fillna(value=0, inplace=True)\n",
    "data['Fatalities'] = data['Fatalities'].astype('int')\n",
    "\n",
    "data['SeriousInjuries'] = data['MO Codes'].str.contains('3024')\n",
    "data['SeriousInjuries'].fillna(value=0, inplace=True)\n",
    "data['SeriousInjuries'] = data['SeriousInjuries'].astype('int')\n",
    "\n",
    "data['Injuries'] = data['MO Codes'].str.contains('3025')\n",
    "data['Injuries'].fillna(value=0, inplace=True)\n",
    "data['Injuries'] = data['Injuries'].astype('int')\n",
    "\n",
    "data['ComplainInjuries'] = data['MO Codes'].str.contains('3026')\n",
    "data['ComplainInjuries'].fillna(value=0, inplace=True)\n",
    "data['ComplainInjuries'] = data['ComplainInjuries'].astype('int')\n",
    "\n",
    "data['NoInjuries'] = data['MO Codes'].str.contains('3028')\n",
    "data['NoInjuries'].fillna(value=0, inplace=True)\n",
    "data['NoInjuries'] = data['NoInjuries'].astype('int')\n",
    "\n",
    "p = r'(?P<lat>-?\\d+\\.\\d+).*?(?P<lon>-?\\d+\\.\\d+)'                                                       \n",
    "data[['Latitude', 'Longitude']] = data['Location'].str.extract(p, expand=True).astype(float)"
   ]
  },
  {
   "cell_type": "markdown",
   "metadata": {},
   "source": [
    "Create Datetime column"
   ]
  },
  {
   "cell_type": "code",
   "execution_count": null,
   "metadata": {},
   "outputs": [],
   "source": [
    "data['Date'] = pd.to_datetime(data['Date Occurred'])"
   ]
  },
  {
   "cell_type": "markdown",
   "metadata": {},
   "source": [
    "Some key statistics"
   ]
  },
  {
   "cell_type": "code",
   "execution_count": null,
   "metadata": {},
   "outputs": [],
   "source": [
    "print('Accidents between '+str(data['Date Occurred'].min())+' and '+str(data['Date Occurred'].max()))\n",
    "\n",
    "total_accidents = data.shape[0]\n",
    "print(\"There are a total of \"+str(total_accidents)+\" accidents.\")\n",
    "\n",
    "fatalities = data[\"Fatalities\"].sum()\n",
    "print(\"There are a total of \"+str(fatalities)+\" fatalities.\")\n",
    "\n",
    "serious_injuries = data[\"SeriousInjuries\"].sum()\n",
    "print(\"There are a total of \"+str(serious_injuries)+\" seriously injured.\")\n",
    "\n",
    "injuries = data[\"Injuries\"].sum()\n",
    "print(\"There are a total of \"+str(injuries)+\" injured.\")\n",
    "\n",
    "\n",
    "complain_injuries = data[\"ComplainInjuries\"].sum()\n",
    "print(\"There are a total of \"+str(complain_injuries)+\" complain injured.\")\n",
    "\n",
    "no_injuries = data[\"NoInjuries\"].sum()\n",
    "print(\"There are a total of \"+str(serious_injuries)+\" no injured.\")\n",
    "\n",
    "bicycles = data[\"Bicycles\"].sum()\n",
    "print(\"There are a total of \"+str(bicycles)+\" bicycles involved in all the accidents.\")"
   ]
  },
  {
   "cell_type": "markdown",
   "metadata": {},
   "source": [
    "Slice all bicycle accidents"
   ]
  },
  {
   "cell_type": "code",
   "execution_count": null,
   "metadata": {},
   "outputs": [],
   "source": [
    "data_bicycles = data[data['Bicycles']>0]"
   ]
  },
  {
   "cell_type": "code",
   "execution_count": null,
   "metadata": {},
   "outputs": [],
   "source": [
    "data_bicycles.head()"
   ]
  },
  {
   "cell_type": "markdown",
   "metadata": {},
   "source": [
    "Save to file"
   ]
  },
  {
   "cell_type": "code",
   "execution_count": null,
   "metadata": {},
   "outputs": [],
   "source": [
    "print(data_bicycles.shape)\n",
    "data_bicycles.to_csv('cycling_safety_los_angeles.csv')\n",
    "print('Wrote file to: cycling_safety_los_angeles.csv')"
   ]
  }
 ],
 "metadata": {
  "kernelspec": {
   "display_name": "Python 3",
   "language": "python",
   "name": "python3"
  },
  "language_info": {
   "codemirror_mode": {
    "name": "ipython",
    "version": 3
   },
   "file_extension": ".py",
   "mimetype": "text/x-python",
   "name": "python",
   "nbconvert_exporter": "python",
   "pygments_lexer": "ipython3",
   "version": "3.8.5"
  }
 },
 "nbformat": 4,
 "nbformat_minor": 4
}
