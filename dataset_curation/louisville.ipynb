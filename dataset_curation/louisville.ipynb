{
 "cells": [
  {
   "cell_type": "markdown",
   "metadata": {},
   "source": [
    "# Louisville, USA"
   ]
  },
  {
   "cell_type": "markdown",
   "metadata": {},
   "source": [
    "**Source of original dataset:** https://data.louisvilleky.gov/dataset/traffic-collisions\n",
    "\n",
    "**Location of accidents:** Latitude, Longitude\n",
    "\n",
    "**Date of accidents:** Date\n",
    "\n",
    "**Outcome of accidents:** Fatality, Injury, PDO"
   ]
  },
  {
   "cell_type": "code",
   "execution_count": null,
   "metadata": {},
   "outputs": [],
   "source": [
    "import pandas as pd\n",
    "pd.set_option('max_columns', None)\n",
    "pd.set_option('display.max_colwidth', -1)\n",
    "import numpy as np\n",
    "from plotly import graph_objects as go\n",
    "import plotly.express as px\n",
    "from itertools import chain\n",
    "import matplotlib.pyplot as plt\n",
    "import pyproj"
   ]
  },
  {
   "cell_type": "markdown",
   "metadata": {},
   "source": [
    "Setup input files"
   ]
  },
  {
   "cell_type": "code",
   "execution_count": null,
   "metadata": {},
   "outputs": [],
   "source": [
    "data_dir = \"../data/louisville/\"\n",
    "data_file = data_dir + \"JEFFERSON COUNTY_CRASH DATA_2010-2017.csv\""
   ]
  },
  {
   "cell_type": "markdown",
   "metadata": {},
   "source": [
    "Read original data"
   ]
  },
  {
   "cell_type": "code",
   "execution_count": null,
   "metadata": {},
   "outputs": [],
   "source": [
    "data = pd.read_csv(data_file)"
   ]
  },
  {
   "cell_type": "markdown",
   "metadata": {},
   "source": [
    "Create Datetime column"
   ]
  },
  {
   "cell_type": "code",
   "execution_count": null,
   "metadata": {},
   "outputs": [],
   "source": [
    "data['COLLISION TIME'] = data['COLLISION TIME'].fillna(0).astype('str').str.strip().str.replace('\\.0','').str.zfill(4)\n",
    "data['COLLISION TIME'] = data['COLLISION TIME'].str.replace('24','00')\n",
    "data['COLLISION TIME'] = data['COLLISION TIME'].str.replace('9122','0000')\n",
    "data['COLLISION TIME'] = data['COLLISION TIME'].str.replace('180','0000')\n",
    "data['COLLISION TIME'] = data['COLLISION TIME'].str.replace('80','0000')\n",
    "data['COLLISION TIME'] = data['COLLISION TIME'].str.replace('1799','0000')\n",
    "data['COLLISION TIME'] = data['COLLISION TIME'].str.replace('94','0000')\n",
    "data['COLLISION TIME'] = data['COLLISION TIME'].str.replace('72','0000')\n",
    "\n",
    "data['COLLISION TIME']\n",
    "data['hour'] = data['COLLISION TIME'].str[0:2]\n",
    "data['minute'] = data['COLLISION TIME'].str[2:4]"
   ]
  },
  {
   "cell_type": "code",
   "execution_count": null,
   "metadata": {},
   "outputs": [],
   "source": [
    "data['Date'] = data['COLLISION DATE'].astype('str').astype('str') + ' ' +data['hour'].astype('str') + ':' + data['minute'].astype('str')\n",
    "data['Date'] = pd.to_datetime(data['Date'])"
   ]
  },
  {
   "cell_type": "markdown",
   "metadata": {},
   "source": [
    "Setup latitude & longitude column"
   ]
  },
  {
   "cell_type": "code",
   "execution_count": null,
   "metadata": {},
   "outputs": [],
   "source": [
    "data['Latitude'] = data['GPS LATITUDE DECIMAL']\n",
    "data['Longitude'] = data['GPS LONGITUDE DECIMAL']"
   ]
  },
  {
   "cell_type": "markdown",
   "metadata": {},
   "source": [
    "Setup bicycles column"
   ]
  },
  {
   "cell_type": "code",
   "execution_count": null,
   "metadata": {},
   "outputs": [],
   "source": [
    "data_bicycles = data[(data['DIRECTIONAL ANALYSIS'] == 'COLLISION WITH BICYCLE') | (data['DIRECTIONAL ANALYSIS'] == 'COLLISION WITH BICYCLIST')]"
   ]
  },
  {
   "cell_type": "markdown",
   "metadata": {},
   "source": [
    "Some key statistics"
   ]
  },
  {
   "cell_type": "code",
   "execution_count": null,
   "metadata": {},
   "outputs": [],
   "source": [
    "print('Accidents between '+str(data['Date'].min())+' and '+str(data['Date'].max()))\n",
    "\n",
    "total_accidents = data.shape[0]\n",
    "print(\"There are a total of \"+str(total_accidents)+\" accidents.\")\n",
    "\n",
    "fatalities = data[\"KILLED\"].sum()\n",
    "print(\"There are a total of \"+str(fatalities)+\" fatalities.\")\n",
    "\n",
    "injuries = data[\"INJURED\"].sum()\n",
    "print(\"There are a total of \"+str(injuries)+\" major injured.\")\n",
    "\n",
    "bicycles = data_bicycles.shape[0]\n",
    "print(\"There are a total of \"+str(bicycles)+\" bicycles involved in all the accidents.\")\n"
   ]
  },
  {
   "cell_type": "markdown",
   "metadata": {},
   "source": [
    "Bicycle accidents"
   ]
  },
  {
   "cell_type": "code",
   "execution_count": null,
   "metadata": {},
   "outputs": [],
   "source": [
    "data_bicycles.head()"
   ]
  },
  {
   "cell_type": "markdown",
   "metadata": {},
   "source": [
    "Save to file"
   ]
  },
  {
   "cell_type": "code",
   "execution_count": null,
   "metadata": {},
   "outputs": [],
   "source": [
    "print(data_bicycles.shape)\n",
    "data_bicycles.to_csv('cycling_safety_louisville.csv')\n",
    "print('Wrote file to: cycling_safety_louisville.csv')"
   ]
  }
 ],
 "metadata": {
  "kernelspec": {
   "display_name": "Python 3",
   "language": "python",
   "name": "python3"
  },
  "language_info": {
   "codemirror_mode": {
    "name": "ipython",
    "version": 3
   },
   "file_extension": ".py",
   "mimetype": "text/x-python",
   "name": "python",
   "nbconvert_exporter": "python",
   "pygments_lexer": "ipython3",
   "version": "3.8.5"
  }
 },
 "nbformat": 4,
 "nbformat_minor": 4
}
